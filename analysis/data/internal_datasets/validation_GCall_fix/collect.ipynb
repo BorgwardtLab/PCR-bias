{
 "cells": [
  {
   "cell_type": "code",
   "execution_count": null,
   "metadata": {},
   "outputs": [],
   "source": [
    "import pandas as pd\n",
    "import numpy as np\n",
    "import Bio.SeqIO"
   ]
  },
  {
   "cell_type": "code",
   "execution_count": null,
   "metadata": {},
   "outputs": [],
   "source": [
    "seq_ids = [str(record.id) for record in Bio.SeqIO.parse(\"design_files.fasta\", \"fasta\")]\n",
    "len(seq_ids)"
   ]
  },
  {
   "cell_type": "code",
   "execution_count": null,
   "metadata": {},
   "outputs": [],
   "source": [
    "datasets = {\n",
    "    'PCR1': 'PCR1/scafstats.txt',\n",
    "    'PCR2': 'PCR2/scafstats.txt',\n",
    "    'PCR3': 'PCR3/scafstats.txt',\n",
    "    'PCR4': 'PCR4/scafstats.txt',\n",
    "    'PCR5': 'PCR5/scafstats.txt',\n",
    "    'PCR6': 'PCR6/scafstats.txt',\n",
    "}\n",
    "\n",
    "dfs = []\n",
    "for name, loc in datasets.items():\n",
    "    df = pd.read_csv(f'./{loc}', sep=\"\\t\", converters={'#name': str, 'assignedReads': int})\n",
    "    df = df[['#name', 'assignedReads']].set_index('#name')\n",
    "    df.index.name = None\n",
    "\n",
    "    mergedf = pd.DataFrame(index=seq_ids, data=np.zeros(11904), columns=['assignedReads'])\n",
    "    mergedf.update(df)\n",
    "    mergedf.assignedReads = mergedf.assignedReads.astype(int)\n",
    "    mergedf = mergedf.rename(columns={'assignedReads': name})\n",
    "    dfs.append(mergedf)\n",
    "\n",
    "alldf = pd.concat(dfs, axis=1)\n",
    "alldf.index.name = \"seq_id\"\n",
    "alldf.to_csv(f'./abundance_by_experiment.csv', sep=\",\")"
   ]
  }
 ],
 "metadata": {
  "kernelspec": {
   "display_name": "standard-3.12",
   "language": "python",
   "name": "python3"
  },
  "language_info": {
   "codemirror_mode": {
    "name": "ipython",
    "version": 3
   },
   "file_extension": ".py",
   "mimetype": "text/x-python",
   "name": "python",
   "nbconvert_exporter": "python",
   "pygments_lexer": "ipython3",
   "version": "3.12.0"
  }
 },
 "nbformat": 4,
 "nbformat_minor": 2
}
