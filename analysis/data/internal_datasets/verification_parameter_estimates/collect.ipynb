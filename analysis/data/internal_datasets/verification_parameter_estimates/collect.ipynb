{
 "cells": [
  {
   "cell_type": "code",
   "execution_count": null,
   "metadata": {},
   "outputs": [],
   "source": [
    "import pandas as pd\n",
    "import numpy as np"
   ]
  },
  {
   "cell_type": "code",
   "execution_count": null,
   "metadata": {},
   "outputs": [],
   "source": [
    "datasets = {f'PCR{str(i).zfill(2)}': f'./PCR{str(i).zfill(2)}/scafstats.txt' for i in range(1, 10+1)}\n",
    "\n",
    "dfs = []\n",
    "for name, loc in datasets.items():\n",
    "    df = pd.read_csv(loc, sep=\"\\t\", converters={'#name': str, 'assignedReads': int})\n",
    "    df = df[['#name', 'assignedReads']].set_index('#name')\n",
    "    df.index.name = None\n",
    "\n",
    "    df = df.rename(columns={'assignedReads': name})\n",
    "    dfs.append(df)\n",
    "\n",
    "alldf = pd.concat(dfs, axis=1)\n",
    "alldf = alldf.fillna(0)\n",
    "alldf.to_csv('abundance_by_experiment.csv', sep=\",\")"
   ]
  }
 ],
 "metadata": {
  "kernelspec": {
   "display_name": "np_pd_sp",
   "language": "python",
   "name": "python3"
  },
  "language_info": {
   "codemirror_mode": {
    "name": "ipython",
    "version": 3
   },
   "file_extension": ".py",
   "mimetype": "text/x-python",
   "name": "python",
   "nbconvert_exporter": "python",
   "pygments_lexer": "ipython3",
   "version": "3.12.0"
  },
  "vscode": {
   "interpreter": {
    "hash": "da8130b5c8ccf41f100662caf67f3ba756beedabd599674f9119b95438e5e458"
   }
  }
 },
 "nbformat": 4,
 "nbformat_minor": 2
}
