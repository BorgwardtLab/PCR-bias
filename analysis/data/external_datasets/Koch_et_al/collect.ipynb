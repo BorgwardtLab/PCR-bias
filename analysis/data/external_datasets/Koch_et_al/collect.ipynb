{
 "cells": [
  {
   "cell_type": "code",
   "execution_count": null,
   "metadata": {},
   "outputs": [],
   "source": [
    "import pandas as pd\n",
    "import numpy as np"
   ]
  },
  {
   "cell_type": "code",
   "execution_count": null,
   "metadata": {},
   "outputs": [],
   "source": [
    "datasets = {\n",
    "    'Bunny_M': 'Bunny_M/scafstats.txt',\n",
    "    'Bunny_P': 'Bunny_P/scafstats.txt',\n",
    "    'Bunny_F1': 'Bunny_F1/scafstats.txt',\n",
    "    'Bunny_F2': 'Bunny_F2/scafstats.txt',\n",
    "    'Bunny_F3': 'Bunny_F3/scafstats.txt',\n",
    "    'Bunny_F4': 'Bunny_F4/scafstats.txt',\n",
    "    'Bunny_F5': 'Bunny_F5/scafstats.txt',\n",
    "}\n",
    "\n",
    "dfs = []\n",
    "for name, loc in datasets.items():\n",
    "    df = pd.read_csv(f'./{loc}', sep=\"\\t\", converters={'#name': str, 'assignedReads': int})\n",
    "    df = df[['#name', 'assignedReads']].set_index('#name')\n",
    "    df.index.name = None\n",
    "\n",
    "    mergedf = pd.DataFrame(index=[str(i).zfill(6) for i in range(12000)], data=np.zeros(12000), columns=['assignedReads'])\n",
    "    mergedf.update(df)\n",
    "    mergedf.assignedReads = mergedf.assignedReads.astype(int)\n",
    "    mergedf = mergedf.rename(columns={'assignedReads': name})\n",
    "    dfs.append(mergedf)\n",
    "\n",
    "alldf = pd.concat(dfs, axis=1)\n",
    "alldf.index.name = \"seq_id\"\n",
    "alldf.to_csv(f'./abundance_by_experiment.csv', sep=\",\")"
   ]
  }
 ],
 "metadata": {
  "kernelspec": {
   "display_name": "standard-3.12",
   "language": "python",
   "name": "python3"
  },
  "language_info": {
   "codemirror_mode": {
    "name": "ipython",
    "version": 3
   },
   "file_extension": ".py",
   "mimetype": "text/x-python",
   "name": "python",
   "nbconvert_exporter": "python",
   "pygments_lexer": "ipython3",
   "version": "3.12.0"
  }
 },
 "nbformat": 4,
 "nbformat_minor": 2
}
