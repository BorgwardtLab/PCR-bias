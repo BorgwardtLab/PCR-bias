{
 "cells": [
  {
   "cell_type": "code",
   "execution_count": null,
   "metadata": {},
   "outputs": [],
   "source": [
    "import pandas as pd\n",
    "import plotly.express as px\n",
    "import plotly.graph_objects as go\n",
    "import numpy as np\n",
    "\n",
    "import sys\n",
    "sys.path.append('..')\n",
    "import plotting\n",
    "\n",
    "datasets = ['validation_GCall_fix', 'validation_Erlich_et_al', 'validation_Erlich_et_al_internalrepeat']\n",
    "dataset_colors = {\n",
    "    'validation_GCall_fix': '#de2d26',  \n",
    "    'validation_Erlich_et_al': '#3182bd', \n",
    "    'validation_Erlich_et_al_internalrepeat': '#bdd7e7', \n",
    "}"
   ]
  },
  {
   "cell_type": "markdown",
   "metadata": {},
   "source": [
    "## Read in population distributions for all validation experiments"
   ]
  },
  {
   "cell_type": "code",
   "execution_count": null,
   "metadata": {},
   "outputs": [],
   "source": [
    "coverage_by_dataset_by_ex = {}\n",
    "\n",
    "pop_dfs = []\n",
    "for exp in datasets:\n",
    "    pop_df = pd.read_csv(f\"../data/internal_datasets/{exp}/abundance_by_experiment.csv\", dtype={'seq_id': str})\n",
    "    pop_df.seq_id = exp + \"_\" + pop_df.seq_id\n",
    "    pop_df = pop_df.set_index('seq_id')\n",
    "    pop_df.index.name = None\n",
    "    coverage_by_dataset_by_ex[exp] = pop_df.mean(axis=0)/2\n",
    "    pop_df = pop_df.div(pop_df.mean(axis=0), axis=1)\n",
    "    pop_df['group'] = exp\n",
    "    pop_dfs.append(pop_df)\n",
    "\n",
    "pop_df = pd.concat(pop_dfs)\n",
    "pop_df"
   ]
  },
  {
   "cell_type": "code",
   "execution_count": null,
   "metadata": {},
   "outputs": [],
   "source": [
    "coverage_by_dataset_by_ex"
   ]
  },
  {
   "cell_type": "markdown",
   "metadata": {},
   "source": [
    "## Read in parameter estimates for the datasets"
   ]
  },
  {
   "cell_type": "code",
   "execution_count": null,
   "metadata": {},
   "outputs": [],
   "source": [
    "params_dfs = []\n",
    "for exp in datasets:\n",
    "    params_df = pd.read_csv(f\"../data/internal_datasets/{exp}/params.csv\", dtype={'seq_id': str})\n",
    "    params_df.seq_id = exp + \"_\" + params_df.seq_id\n",
    "    params_df = params_df.set_index('seq_id')\n",
    "    params_df.index.name = None\n",
    "    params_dfs.append(params_df)\n",
    "\n",
    "params_df = pd.concat(params_dfs)\n",
    "params_df"
   ]
  },
  {
   "cell_type": "markdown",
   "metadata": {},
   "source": [
    "## Join coverage data and parameter estimates"
   ]
  },
  {
   "cell_type": "code",
   "execution_count": null,
   "metadata": {},
   "outputs": [],
   "source": [
    "df = pop_df.merge(params_df, how=\"inner\", left_index=True, right_index=True)\n",
    "df"
   ]
  },
  {
   "cell_type": "markdown",
   "metadata": {},
   "source": [
    "## Plot coverage distributions"
   ]
  },
  {
   "cell_type": "code",
   "execution_count": null,
   "metadata": {},
   "outputs": [],
   "source": [
    "plot_df = pd.melt(\n",
    "    df.reset_index(), \n",
    "    id_vars=['index', \"eff\", \"x0\", \"group\"],\n",
    "    value_vars=[f'PCR{str(i).zfill(1)}' for i in range(1, 6+1)],\n",
    "    var_name='PCR',\n",
    "    value_name='x',\n",
    ")\n",
    "plot_df['n_cycles'] = plot_df['PCR'].str.extract(r'(\\d+)').astype(int)*15\n",
    "plot_df.loc[plot_df['x'].isna(), 'x'] = 0\n",
    "\n",
    "plot_df"
   ]
  },
  {
   "cell_type": "code",
   "execution_count": null,
   "metadata": {},
   "outputs": [],
   "source": [
    "fig = px.histogram(\n",
    "    plot_df, \n",
    "    x='x', \n",
    "    facet_col=\"n_cycles\",\n",
    "    facet_row=\"group\",\n",
    "    color=\"group\",\n",
    "    facet_col_spacing=0.02,\n",
    "    facet_row_spacing=0.075,\n",
    "    color_discrete_map=dataset_colors,\n",
    "    range_x=[0, 2.5], \n",
    "    range_y=[0, 2000], \n",
    ")\n",
    "fig.update_traces(xbins=dict(start=0.0, end=2.5, size=0.1), selector=dict(type='histogram'))\n",
    "fig.update_layout(\n",
    "    height=300, \n",
    "    width=640, \n",
    "    margin=dict(l=0, r=10, t=20, b=0),\n",
    "    showlegend=False,\n",
    ")\n",
    "fig.for_each_annotation(lambda a: a.update(text=f\"{a.text.split(\"=\")[-1]} cycles\"))\n",
    "fig.update_xaxes(\n",
    "    dtick=1,\n",
    "    minor_dtick=0.25\n",
    ")\n",
    "fig.update_xaxes(title_text='Coverage', row=1)\n",
    "fig.update_yaxes(\n",
    "    title_text='', \n",
    "    dtick=500, \n",
    "    minor_dtick=250\n",
    ")\n",
    "fig.update_yaxes(title_text='# Sequences', col=1)\n",
    "fig.update_traces(marker=dict(line_width=0), selector=dict(type='histogram')) \n",
    "\n",
    "for i, (exp, data) in enumerate(coverage_by_dataset_by_ex.items()):\n",
    "    for j in range(6):\n",
    "        fig.add_annotation(\n",
    "            x=2, \n",
    "            y=1500, \n",
    "            text=f\"n = {data.iloc[j]:.0f}\", \n",
    "            showarrow=False,\n",
    "            col=j+1,\n",
    "            row=3-i, \n",
    "        )\n",
    "\n",
    "\n",
    "\n",
    "fig = plotting.standardize_plot(fig)\n",
    "fig.show()\n",
    "fig.write_image(\"./SI_figure_externalval_pool_comparison/cov_dist.svg\")\n",
    "\n",
    "# export data as well\n",
    "plot_df.to_csv(\"./SI_figure_externalval_pool_comparison/cov_dist.csv\", index=False)"
   ]
  },
  {
   "cell_type": "markdown",
   "metadata": {},
   "source": [
    "## Plot efficiency distributions"
   ]
  },
  {
   "cell_type": "code",
   "execution_count": null,
   "metadata": {},
   "outputs": [],
   "source": [
    "plot_df = df.copy()\n",
    "\n",
    "plot_df"
   ]
  },
  {
   "cell_type": "code",
   "execution_count": null,
   "metadata": {},
   "outputs": [],
   "source": [
    "fig = px.histogram(\n",
    "    plot_df, \n",
    "    x='eff',\n",
    "    color=\"group\",\n",
    "    facet_row=\"group\",\n",
    "    color_discrete_map=dataset_colors,\n",
    "    facet_row_spacing=0.05,\n",
    ")\n",
    "fig.update_traces(xbins=dict(start=0.70, end=1.1, size=0.001), selector=dict(type='histogram'))\n",
    "fig.update_layout(\n",
    "    height=300, \n",
    "    width=300, \n",
    "    margin=dict(l=0, r=10, t=5, b=0),\n",
    "    showlegend=False,\n",
    ")\n",
    "fig.update_xaxes(\n",
    "    dtick=0.05,\n",
    "    minor_dtick=0.025\n",
    ")\n",
    "fig.update_xaxes(title_text='Relative PCR efficiency', row=1)\n",
    "fig.update_yaxes(\n",
    "    title_text='', \n",
    "    dtick=500, \n",
    "    minor_dtick=250\n",
    ")\n",
    "fig.update_yaxes(\n",
    "    title_text='# Sequences',\n",
    "    col=1,\n",
    ")\n",
    "fig.update_traces(marker=dict(line_width=0), selector=dict(type='histogram')) \n",
    "\n",
    "\n",
    "\n",
    "fig = plotting.standardize_plot(fig)\n",
    "fig.show()\n",
    "fig.write_image(\"./SI_figure_externalval_pool_comparison/eff_dist.svg\")"
   ]
  },
  {
   "cell_type": "code",
   "execution_count": null,
   "metadata": {},
   "outputs": [],
   "source": [
    "for exp in datasets:\n",
    "    fig = px.histogram(\n",
    "        plot_df.loc[plot_df['group'] == exp], \n",
    "        x='eff',\n",
    "        color=\"group\",\n",
    "        facet_row=\"group\",\n",
    "        color_discrete_map=dataset_colors,\n",
    "        facet_row_spacing=0.05,\n",
    "    )\n",
    "    fig.update_traces(xbins=dict(start=0.70, end=1.1, size=0.001), selector=dict(type='histogram'))\n",
    "    fig.update_layout(\n",
    "        height=75, \n",
    "        width=175, \n",
    "        margin=dict(l=0, r=5, t=10, b=20),\n",
    "        showlegend=False,\n",
    "    )\n",
    "    fig.update_xaxes(\n",
    "        range=[0.9, 1.0],\n",
    "        dtick=0.05,\n",
    "        minor_dtick=0.01\n",
    "    )\n",
    "    fig.update_xaxes(title_text='', row=1)\n",
    "    fig.update_yaxes(\n",
    "        range=[0, 100],\n",
    "        title_text='', \n",
    "        dtick=100, \n",
    "        minor_dtick=25\n",
    "    )\n",
    "    fig.update_yaxes(\n",
    "        title_text='',\n",
    "        col=1,\n",
    "    )\n",
    "    fig.update_traces(marker=dict(line_width=0), selector=dict(type='histogram')) \n",
    "\n",
    "\n",
    "    fig.for_each_annotation(lambda a: a.update(text=f\"\"))\n",
    "    fig = plotting.standardize_plot(fig)\n",
    "    fig.show()\n",
    "    fig.write_image(f\"./SI_figure_externalval_pool_comparison/eff_dist_inset_{exp}.svg\")"
   ]
  },
  {
   "cell_type": "code",
   "execution_count": null,
   "metadata": {},
   "outputs": [],
   "source": [
    "idf = df.loc[df.group == 'validation_Erlich_et_al'].copy()\n",
    "idf[idf.eff < 0.98].shape[0]/idf.shape[0]"
   ]
  },
  {
   "cell_type": "markdown",
   "metadata": {},
   "source": [
    "## Plot initial abundance distributions"
   ]
  },
  {
   "cell_type": "code",
   "execution_count": null,
   "metadata": {},
   "outputs": [],
   "source": [
    "plot_df = df.copy()\n",
    "\n",
    "plot_df"
   ]
  },
  {
   "cell_type": "code",
   "execution_count": null,
   "metadata": {},
   "outputs": [],
   "source": [
    "fig = px.histogram(\n",
    "    plot_df, \n",
    "    x='x0',\n",
    "    color=\"group\",\n",
    "    facet_row=\"group\",\n",
    "    color_discrete_map=dataset_colors,\n",
    "    facet_row_spacing=0.05,\n",
    ")\n",
    "fig.update_traces(xbins=dict(start=0, end=4, size=0.05), selector=dict(type='histogram'))\n",
    "fig.update_layout(\n",
    "    height=300, \n",
    "    width=300, \n",
    "    margin=dict(l=0, r=10, t=5, b=0),\n",
    "    showlegend=False,\n",
    ")\n",
    "fig.update_xaxes(\n",
    "    dtick=1,\n",
    "    minor_dtick=0.5\n",
    ")\n",
    "fig.update_xaxes(title_text='Relative initial abundance', row=1)\n",
    "fig.update_yaxes(\n",
    "    title_text='', \n",
    "    dtick=500, \n",
    "    minor_dtick=250\n",
    ")\n",
    "fig.update_yaxes(\n",
    "    title_text='# Sequences',\n",
    "    col=1,\n",
    ")\n",
    "fig.update_traces(marker=dict(line_width=0), selector=dict(type='histogram')) \n",
    "\n",
    "\n",
    "\n",
    "fig = plotting.standardize_plot(fig)\n",
    "fig.show()\n",
    "fig.write_image(\"./SI_figure_externalval_pool_comparison/x0_dist.svg\")"
   ]
  },
  {
   "cell_type": "markdown",
   "metadata": {},
   "source": [
    "# Get correlations between experiments"
   ]
  },
  {
   "cell_type": "code",
   "execution_count": null,
   "metadata": {},
   "outputs": [],
   "source": [
    "corr_df = df.reset_index()\n",
    "corr_df['index'] = corr_df['index'].str.split('_').str[-1]"
   ]
  },
  {
   "cell_type": "markdown",
   "metadata": {},
   "source": [
    "### Initial abundance"
   ]
  },
  {
   "cell_type": "code",
   "execution_count": null,
   "metadata": {},
   "outputs": [],
   "source": [
    "corr_df.pivot(index='index', columns='group', values='x0').corr(method='spearman')"
   ]
  },
  {
   "cell_type": "markdown",
   "metadata": {},
   "source": [
    "### Efficiency"
   ]
  },
  {
   "cell_type": "code",
   "execution_count": null,
   "metadata": {},
   "outputs": [],
   "source": [
    "corr_df.pivot(index='index', columns='group', values='eff').corr(method='spearman')"
   ]
  }
 ],
 "metadata": {
  "kernelspec": {
   "display_name": "standard-3.12",
   "language": "python",
   "name": "python3"
  },
  "language_info": {
   "codemirror_mode": {
    "name": "ipython",
    "version": 3
   },
   "file_extension": ".py",
   "mimetype": "text/x-python",
   "name": "python",
   "nbconvert_exporter": "python",
   "pygments_lexer": "ipython3",
   "version": "3.12.3"
  }
 },
 "nbformat": 4,
 "nbformat_minor": 2
}
