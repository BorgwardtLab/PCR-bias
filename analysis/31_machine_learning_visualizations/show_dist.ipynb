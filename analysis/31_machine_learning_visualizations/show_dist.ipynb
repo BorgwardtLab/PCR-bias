{
 "cells": [
  {
   "cell_type": "code",
   "execution_count": null,
   "metadata": {},
   "outputs": [],
   "source": [
    "import pandas as pd\n",
    "import plotly.express as px\n",
    "import numpy as np"
   ]
  },
  {
   "cell_type": "markdown",
   "metadata": {},
   "source": [
    "# Read parameters of GCall"
   ]
  },
  {
   "cell_type": "code",
   "execution_count": null,
   "metadata": {},
   "outputs": [],
   "source": [
    "params_df = pd.read_csv(\"../data/internal_datasets/GCall/params.csv\", dtype={'seq_id': str})\n",
    "params_df = params_df.set_index(\"seq_id\")\n",
    "params_df.index.name = None\n",
    "\n",
    "params_df"
   ]
  },
  {
   "cell_type": "markdown",
   "metadata": {},
   "source": [
    "# Plot efficiency distribution with threshold"
   ]
  },
  {
   "cell_type": "code",
   "execution_count": null,
   "metadata": {},
   "outputs": [],
   "source": [
    "fig = px.histogram(\n",
    "    params_df, \n",
    "    x='eff', \n",
    "    histnorm=\"probability density\",\n",
    "    facet_col_spacing=0.05,\n",
    "    color_discrete_sequence=['#888888'],\n",
    "    range_x=[params_df['eff'].min(), 1.02], \n",
    ")\n",
    "fig.update_traces(xbins=dict(start=0.5, end=1.5, size=0.002), selector=dict(type='histogram'))\n",
    "\n",
    "def ecdf(a):\n",
    "    x, counts = np.unique(a, return_counts=True)\n",
    "    cusum = np.cumsum(counts)\n",
    "    return x, cusum / cusum[-1]\n",
    "x, y = ecdf(params_df['eff'])\n",
    "fig.add_vline(\n",
    "    x=x[np.argmax(y > 0.02)], \n",
    "    line_width=2,\n",
    "    line_dash=\"dot\",\n",
    "    opacity=1,\n",
    "    line_color=\"#000000\",\n",
    "    layer='below'\n",
    ")\n",
    "\n",
    "fig.update_xaxes(\n",
    "    title_text='PCR efficiency', \n",
    "    dtick=0.05,\n",
    "    minor_dtick=0.05\n",
    ")\n",
    "fig.update_yaxes(\n",
    "    title_text=None, \n",
    "    dtick=500, \n",
    "    minor_dtick=250\n",
    ")\n",
    "fig.update_layout(\n",
    "    template=\"simple_white\",\n",
    "    font_family=\"Inter\",\n",
    "    legend_font_size=20/3,\n",
    ")\n",
    "fig.update_yaxes(\n",
    "    minor_ticks=\"outside\", \n",
    "    title_font_family=\"Inter\", \n",
    "    title_font_size=20/3, \n",
    "    tickfont_size=20/3, \n",
    ")\n",
    "fig.update_xaxes(\n",
    "    minor_ticks=\"outside\", \n",
    "    title_font_family=\"Inter\", \n",
    "    title_font_size=20/3, \n",
    "    tickfont_size=20/3, \n",
    ")\n",
    "fig.for_each_annotation(lambda a: a.update(\n",
    "    font_size=20/3,\n",
    "    font_family=\"Inter\",\n",
    "))\n",
    "fig.update_layout(\n",
    "    height=90, \n",
    "    width=100, \n",
    "    margin=dict(l=0, r=5, t=10, b=30),\n",
    "    showlegend=False,\n",
    ")\n",
    "fig.update_traces(marker=dict(line_width=0), selector=dict(type='histogram')) \n",
    "\n",
    "fig.write_image(\"./figure_3_performance/efficiency_dist.svg\")\n",
    "fig.show()"
   ]
  }
 ],
 "metadata": {
  "kernelspec": {
   "display_name": "standard-3.12",
   "language": "python",
   "name": "python3"
  },
  "language_info": {
   "codemirror_mode": {
    "name": "ipython",
    "version": 3
   },
   "file_extension": ".py",
   "mimetype": "text/x-python",
   "name": "python",
   "nbconvert_exporter": "python",
   "pygments_lexer": "ipython3",
   "version": "3.12.3"
  }
 },
 "nbformat": 4,
 "nbformat_minor": 2
}
