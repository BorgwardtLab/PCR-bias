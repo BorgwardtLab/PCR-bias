{
 "cells": [
  {
   "cell_type": "code",
   "execution_count": null,
   "id": "0",
   "metadata": {},
   "outputs": [],
   "source": [
    "import pandas as pd\n",
    "import plotly.express as px\n",
    "import plotly.graph_objects as go\n",
    "\n",
    "import sys\n",
    "sys.path.append('..')\n",
    "import plotting"
   ]
  },
  {
   "cell_type": "markdown",
   "id": "1",
   "metadata": {},
   "source": [
    "## position distribution visualization"
   ]
  },
  {
   "cell_type": "markdown",
   "id": "2",
   "metadata": {},
   "source": [
    "### for GCall 1 and GCfix 1 motifs"
   ]
  },
  {
   "cell_type": "code",
   "execution_count": null,
   "id": "3",
   "metadata": {},
   "outputs": [],
   "source": [
    "for filename in ['GCall', 'GCfix']:\n",
    "    bot_seqs_positions, rest_seqs_positions = pd.read_pickle(\n",
    "        \"../data/machine_learning_results/motifs_positions/{}_motif_positions.pkl\".format(\n",
    "            filename\n",
    "        )\n",
    "    )\n",
    "    # this loop flattens the nested dictionary of position per motif per sequence\n",
    "    flattened_bot_seqs_positions = []\n",
    "    for i in range(len(bot_seqs_positions[0])):\n",
    "\n",
    "        if len(bot_seqs_positions[0][i]) != 0:\n",
    "            flattened_bot_seqs_positions.extend(bot_seqs_positions[0][i])\n",
    "\n",
    "    flattened_rest_seqs_positions = []\n",
    "    for i in range(len(rest_seqs_positions[0])):\n",
    "        if len(rest_seqs_positions[0][i]) != 0:\n",
    "            flattened_rest_seqs_positions.extend(rest_seqs_positions[0][i])\n",
    "\n",
    "    # combine to dataframe\n",
    "    bdf = pd.DataFrame.from_dict({'val': flattened_bot_seqs_positions})\n",
    "    bdf['cat'] = \"bot\"\n",
    "    ndf = pd.DataFrame.from_dict({'val': flattened_rest_seqs_positions})\n",
    "    ndf['cat'] = \"normal\"\n",
    "    df = pd.concat([bdf, ndf])\n",
    "\n",
    "    fig = px.histogram(\n",
    "        df,\n",
    "        x=\"val\",\n",
    "        color=\"cat\",\n",
    "        histnorm=\"probability\",\n",
    "        barmode=\"overlay\",\n",
    "        color_discrete_map={\"bot\": \"#de2d26\", \"normal\": \"#aaaaaa\"},\n",
    "    )\n",
    "    fig.data = fig.data[::-1]\n",
    "    fig.update_traces(marker=dict(line_width=0), selector=dict(type='histogram')) \n",
    "    fig.update_traces(xbins=dict(start=0.0, size=5), selector=dict(type='histogram'))\n",
    "    fig.update_xaxes(title_text=\"Position in sequence\", dtick=50, minor_dtick=25)\n",
    "    fig.update_yaxes(title_text=\"Motif frequency\", dtick=0.1, minor_dtick=0.05)\n",
    "    fig.update_layout(\n",
    "        width=150,\n",
    "        height=150,\n",
    "        margin=dict(l=0, r=10, t=10, b=0),\n",
    "        showlegend=False,\n",
    "    )\n",
    "\n",
    "    fig = plotting.standardize_plot(fig)\n",
    "    fig.show()\n",
    "    fig.write_image(\"./figure_4_motif_replacement/{}_motif_positions_histogram.svg\".format(filename))\n",
    "\n",
    "    # also save data\n",
    "    df.to_csv(\"./figure_4_motif_replacement/{}_motif_positions_histogram_data.csv\".format(filename), index=False)"
   ]
  },
  {
   "cell_type": "markdown",
   "id": "4",
   "metadata": {},
   "source": [
    "### for top 3 of all datasets"
   ]
  },
  {
   "cell_type": "code",
   "execution_count": null,
   "id": "5",
   "metadata": {},
   "outputs": [],
   "source": [
    "for filename in [\n",
    "    \"GCfix\",\n",
    "    \"GCall\",\n",
    "    \"Gao_et_al\",\n",
    "    \"Erlich_et_al\",\n",
    "    \"Koch_et_al\",\n",
    "    \"Song_et_al\",\n",
    "    \"Choi_et_al\",\n",
    "]:\n",
    "    bot_seqs_positions, rest_seqs_positions = pd.read_pickle(\n",
    "        \"../data/machine_learning_results/motifs_positions/{}_motif_positions.pkl\".format(\n",
    "            filename\n",
    "        )\n",
    "    )\n",
    "    l = min(3, len(bot_seqs_positions))\n",
    "    for k in range(l):\n",
    "        # k: index of motif sorted by p-value\n",
    "        # i: index of sequence\n",
    "\n",
    "        # this loop flattens the nested dictionary of position per motif per sequence\n",
    "        flattened_bot_seqs_positions = []\n",
    "        for i in range(len(bot_seqs_positions[k])):\n",
    "\n",
    "            if len(bot_seqs_positions[k][i]) != 0:\n",
    "                flattened_bot_seqs_positions.extend(bot_seqs_positions[k][i])\n",
    "\n",
    "        flattened_rest_seqs_positions = []\n",
    "        for i in range(len(rest_seqs_positions[k])):\n",
    "            if len(rest_seqs_positions[k][i]) != 0:\n",
    "                flattened_rest_seqs_positions.extend(rest_seqs_positions[k][i])\n",
    "\n",
    "        # combine to dataframe\n",
    "        bdf = pd.DataFrame.from_dict({'val': flattened_bot_seqs_positions})\n",
    "        bdf['cat'] = \"bot\"\n",
    "        ndf = pd.DataFrame.from_dict({'val': flattened_rest_seqs_positions})\n",
    "        ndf['cat'] = \"normal\"\n",
    "        df = pd.concat([bdf, ndf])\n",
    "\n",
    "        fig = px.histogram(\n",
    "            df,\n",
    "            x=\"val\",\n",
    "            color=\"cat\",\n",
    "            histnorm=\"probability\",\n",
    "            barmode=\"overlay\",\n",
    "            color_discrete_map={\"bot\": \"#de2d26\", \"normal\": \"#aaaaaa\"},\n",
    "        )\n",
    "        fig.data = fig.data[::-1]\n",
    "        fig.update_traces(marker=dict(line_width=0), selector=dict(type='histogram')) \n",
    "        fig.update_traces(xbins=dict(start=0.0, size=5), selector=dict(type='histogram'))\n",
    "        fig.update_xaxes(title_text=\"Position in sequence\", dtick=50, minor_dtick=25)\n",
    "        fig.update_yaxes(title_text=\"Motif frequency\")\n",
    "        fig.update_layout(\n",
    "            width=210,\n",
    "            height=100,\n",
    "            margin=dict(l=0, r=10, t=10, b=35),\n",
    "            showlegend=False,\n",
    "        )\n",
    "\n",
    "        fig = plotting.standardize_plot(fig)\n",
    "        fig.show()\n",
    "\n",
    "        fig.write_image(\"./SI_figure_motifs/{}_{}_motif_positions_histogram.svg\".format(filename, k))\n",
    "\n",
    "        # also save data\n",
    "        df.to_csv(\"./SI_figure_motifs/{}_{}_motif_positions_histogram_data.csv\".format(filename, k), index=False)"
   ]
  }
 ],
 "metadata": {
  "hide_input": false,
  "kernelspec": {
   "display_name": "standard-3.12",
   "language": "python",
   "name": "python3"
  },
  "language_info": {
   "codemirror_mode": {
    "name": "ipython",
    "version": 3
   },
   "file_extension": ".py",
   "mimetype": "text/x-python",
   "name": "python",
   "nbconvert_exporter": "python",
   "pygments_lexer": "ipython3",
   "version": "3.12.3"
  },
  "toc": {
   "base_numbering": 1,
   "nav_menu": {},
   "number_sections": true,
   "sideBar": true,
   "skip_h1_title": false,
   "title_cell": "Table of Contents",
   "title_sidebar": "Contents",
   "toc_cell": false,
   "toc_position": {},
   "toc_section_display": true,
   "toc_window_display": false
  },
  "varInspector": {
   "cols": {
    "lenName": 16,
    "lenType": 16,
    "lenVar": 40
   },
   "kernels_config": {
    "python": {
     "delete_cmd_postfix": "",
     "delete_cmd_prefix": "del ",
     "library": "var_list.py",
     "varRefreshCmd": "print(var_dic_list())"
    },
    "r": {
     "delete_cmd_postfix": ") ",
     "delete_cmd_prefix": "rm(",
     "library": "var_list.r",
     "varRefreshCmd": "cat(var_dic_list()) "
    }
   },
   "types_to_exclude": [
    "module",
    "function",
    "builtin_function_or_method",
    "instance",
    "_Feature"
   ],
   "window_display": false
  }
 },
 "nbformat": 4,
 "nbformat_minor": 5
}
