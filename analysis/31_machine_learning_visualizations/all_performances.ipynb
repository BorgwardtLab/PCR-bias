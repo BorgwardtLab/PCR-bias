{
 "cells": [
  {
   "cell_type": "code",
   "execution_count": null,
   "id": "0",
   "metadata": {},
   "outputs": [],
   "source": [
    "import pandas as pd\n",
    "import plotly.express as px\n",
    "import svgutils.transform as sg\n",
    "\n",
    "import sys\n",
    "sys.path.append('../')\n",
    "import plotting"
   ]
  },
  {
   "cell_type": "code",
   "execution_count": null,
   "id": "1",
   "metadata": {},
   "outputs": [],
   "source": [
    "dataset_order = [\"GCall\", \"GCfix\", \"Koch_et_al\", \"Erlich_et_al\", \"Song_et_al\", \"Choi_et_al\", \"Gao_et_al\"]\n",
    "\n",
    "# fix _et_al names\n",
    "def fix_et_al(df):\n",
    "    return df.rename(columns={\n",
    "        \"Koch_et_al\": \"Koch et al.\",\n",
    "        \"Erlich_et_al\": \"Erlich et al.\",\n",
    "        \"Song_et_al\": \"Song et al.\",\n",
    "        \"Choi_et_al\": \"Choi et al.\",\n",
    "        \"Gao_et_al\": \"Gao et al.\",\n",
    "    }, index={\n",
    "        \"Koch_et_al\": \"Koch et al.\",\n",
    "        \"Erlich_et_al\": \"Erlich et al.\",\n",
    "        \"Song_et_al\": \"Song et al.\",\n",
    "        \"Choi_et_al\": \"Choi et al.\",\n",
    "        \"Gao_et_al\": \"Gao et al.\",\n",
    "    })\n",
    "\n",
    "def plot(data, title, colorscale, zrange, dtick=0.1):\n",
    "    data = data.copy()[dataset_order].reindex(dataset_order)\n",
    "    data = fix_et_al(data)\n",
    "    fig = px.imshow(\n",
    "        data, \n",
    "        color_continuous_scale=colorscale,\n",
    "        zmin=zrange[0], \n",
    "        zmax=zrange[1],\n",
    "        text_auto=\".2f\",\n",
    "    )\n",
    "    fig.update_layout(coloraxis_colorbar=dict(\n",
    "            title=title,\n",
    "            title_font_size=28/3,\n",
    "            title_font_family='Inter',\n",
    "            title_side='top',\n",
    "            tickfont_size=28/3,\n",
    "            tickfont_family='Inter',\n",
    "            lenmode=\"pixels\", \n",
    "            len=180,\n",
    "            thicknessmode=\"pixels\",\n",
    "            thickness=10,\n",
    "            orientation=\"h\",\n",
    "            dtick=dtick,\n",
    "        ),\n",
    "        margin=dict(l=0, r=0, t=0, b=0),\n",
    "        width=350,\n",
    "        height=350\n",
    "    )\n",
    "    fig = plotting.standardize_plot(fig)\n",
    "    # fig.show()\n",
    "    return fig"
   ]
  },
  {
   "cell_type": "markdown",
   "id": "2",
   "metadata": {},
   "source": [
    "# Baseline Models at threshold 2perc\n"
   ]
  },
  {
   "cell_type": "code",
   "execution_count": null,
   "id": "3",
   "metadata": {},
   "outputs": [],
   "source": [
    "for modelname in ['1DCNN_without_PE', 'RNN', 'LR']:\n",
    "    # get data\n",
    "    performance = pd.read_csv('../data/machine_learning_results/Baseline_{}_performance_2perc.csv'.format(modelname), index_col=[0, 1]).sort_index()\n",
    "\n",
    "    # extract data\n",
    "    perf_auroc = performance['AUROC'].unstack(level=1)\n",
    "    perf_auprc = performance['AUPRC'].unstack(level=1)\n",
    "\n",
    "    # plot and save\n",
    "    fig_auroc = plot(perf_auroc, \"AUROC\", [\"white\", \"#3182bd\"], [0.5, 1])\n",
    "    fig_auroc.write_image(f\"./SI_figure_models/{modelname}_auroc_heatmap.svg\")\n",
    "    fig_auprc = plot(perf_auprc, \"AUPRC\", [\"white\", \"#de2d26\"], [0, 0.6])\n",
    "    fig_auprc.write_image(f\"./SI_figure_models/{modelname}_auprc_heatmap.svg\")\n",
    "\n",
    "\n",
    "# create arrangement in a grid\n",
    "fig = sg.SVGFigure(\"680px\", \"900px\")\n",
    "fig.set_size((\"680px\", \"900px\"))\n",
    "\n",
    "for i, modelname in enumerate(reversed(['1DCNN_without_PE', 'RNN', 'LR'])):\n",
    "    panel = sg.fromfile(f'./SI_figure_models/{modelname}_auroc_heatmap.svg').getroot()\n",
    "    panel.moveto(50, (2-i)*270+0)\n",
    "    fig.append(panel)\n",
    "    panel = sg.fromfile(f'./SI_figure_models/{modelname}_auprc_heatmap.svg').getroot()\n",
    "    panel.moveto(375, (2-i)*270+0)\n",
    "    fig.append(panel)\n",
    "\n",
    "fig.save('./SI_figure_models/baselines_composed.svg')\n",
    "\n",
    "from IPython.display import SVG, display\n",
    "display(SVG(filename='./SI_figure_models/baselines_composed.svg'))"
   ]
  },
  {
   "cell_type": "markdown",
   "id": "4",
   "metadata": {},
   "source": [
    "# 1D CNN models for all thresholds"
   ]
  },
  {
   "cell_type": "code",
   "execution_count": null,
   "id": "5",
   "metadata": {},
   "outputs": [],
   "source": [
    "performance = pd.read_csv('../data/machine_learning_results/1DCNN_performance_all_threshold.csv', index_col=0)\n",
    "performance[\"Normalized AUPRC\"] = performance[\"AUPRC\"] / performance[\"Prevalence\"]\n",
    "\n",
    "agg_df = (\n",
    "    performance.groupby([\"source\", \"target\", \"threshold\"])\n",
    "    .mean()\n",
    "    .reset_index()\n",
    ")\n",
    "\n",
    "agg_df"
   ]
  },
  {
   "cell_type": "code",
   "execution_count": null,
   "id": "6",
   "metadata": {},
   "outputs": [],
   "source": [
    "for threshold in performance[\"threshold\"].unique():\n",
    "    # pivot table for the current threshold, using the aggregated data for AUROC\n",
    "    pivot_df = agg_df[agg_df[\"threshold\"] == threshold].pivot(\n",
    "        index=\"source\", columns=\"target\", values=\"AUROC\"\n",
    "    )\n",
    "    fig_auroc = plot(pivot_df, \"AUROC\", [\"white\", \"#3182bd\"], [0.5, 1])\n",
    "    fig_auroc.write_image(f\"./SI_figure_models/{threshold}_auroc_heatmap.svg\")\n",
    "    \n",
    "    # pivot table for the current threshold, using the aggregated data for AUPRC\n",
    "    pivot_df = agg_df[agg_df[\"threshold\"] == threshold].pivot(\n",
    "        index=\"source\", columns=\"target\", values=\"Normalized AUPRC\"\n",
    "    )\n",
    "    fig_auprc = plot(pivot_df, \"Normalized AUPRC\", [\"white\", \"#de2d26\"], [0, 10], dtick=2)\n",
    "    fig_auprc.write_image(f\"./SI_figure_models/{threshold}_auprc_heatmap.svg\")\n",
    "\n",
    "\n",
    "    # create arrangement in a grid\n",
    "    fig = sg.SVGFigure(\"680px\", \"330px\")\n",
    "    fig.set_size((\"680px\", \"330px\"))\n",
    "\n",
    "    panel = sg.fromfile(f\"./SI_figure_models/{threshold}_auroc_heatmap.svg\").getroot()\n",
    "    panel.moveto(50, -20)\n",
    "    fig.append(panel)\n",
    "    panel = sg.fromfile(f\"./SI_figure_models/{threshold}_auprc_heatmap.svg\").getroot()\n",
    "    panel.moveto(375, -20)\n",
    "    fig.append(panel)\n",
    "\n",
    "    fig.save(f'./SI_figure_models/{threshold}_composed.svg')\n",
    "\n",
    "    from IPython.display import SVG, display\n",
    "    display(SVG(filename=f'./SI_figure_models/{threshold}_composed.svg'))"
   ]
  }
 ],
 "metadata": {
  "hide_input": false,
  "kernelspec": {
   "display_name": "standard-3.12",
   "language": "python",
   "name": "python3"
  },
  "language_info": {
   "codemirror_mode": {
    "name": "ipython",
    "version": 3
   },
   "file_extension": ".py",
   "mimetype": "text/x-python",
   "name": "python",
   "nbconvert_exporter": "python",
   "pygments_lexer": "ipython3",
   "version": "3.12.3"
  },
  "toc": {
   "base_numbering": 1,
   "nav_menu": {},
   "number_sections": true,
   "sideBar": true,
   "skip_h1_title": false,
   "title_cell": "Table of Contents",
   "title_sidebar": "Contents",
   "toc_cell": false,
   "toc_position": {},
   "toc_section_display": true,
   "toc_window_display": false
  },
  "varInspector": {
   "cols": {
    "lenName": 16,
    "lenType": 16,
    "lenVar": 40
   },
   "kernels_config": {
    "python": {
     "delete_cmd_postfix": "",
     "delete_cmd_prefix": "del ",
     "library": "var_list.py",
     "varRefreshCmd": "print(var_dic_list())"
    },
    "r": {
     "delete_cmd_postfix": ") ",
     "delete_cmd_prefix": "rm(",
     "library": "var_list.r",
     "varRefreshCmd": "cat(var_dic_list()) "
    }
   },
   "types_to_exclude": [
    "module",
    "function",
    "builtin_function_or_method",
    "instance",
    "_Feature"
   ],
   "window_display": false
  }
 },
 "nbformat": 4,
 "nbformat_minor": 5
}
