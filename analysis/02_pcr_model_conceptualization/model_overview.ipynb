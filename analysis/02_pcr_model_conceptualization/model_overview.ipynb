{
 "cells": [
  {
   "cell_type": "code",
   "execution_count": null,
   "metadata": {},
   "outputs": [],
   "source": [
    "import pandas as pd\n",
    "import plotly.express as px\n",
    "import plotly.graph_objects as go\n",
    "import numpy as np\n",
    "\n",
    "import sys\n",
    "sys.path.append('..')\n",
    "import plotting\n",
    "\n",
    "colormap = {\n",
    "    \"GCall_000835\": \"#de2d26\",\n",
    "    \"GCall_000006\": \"#636363\",\n",
    "    \"GCall_001634\": \"#31a354\",\n",
    "}"
   ]
  },
  {
   "cell_type": "markdown",
   "metadata": {},
   "source": [
    "## Read in population distributions for GCall and GCfix"
   ]
  },
  {
   "cell_type": "code",
   "execution_count": null,
   "metadata": {},
   "outputs": [],
   "source": [
    "pop_df = pd.read_csv(\"../data/internal_datasets/GCall/abundance_by_experiment.csv\", dtype={'seq_id': str})\n",
    "pop_df.seq_id = \"GCall_\" + pop_df.seq_id\n",
    "pop_df = pop_df.set_index('seq_id')\n",
    "pop_df.index.name = None\n",
    "pop_df = pop_df.div(pop_df.mean(axis=0), axis=1)\n",
    "pop_df"
   ]
  },
  {
   "cell_type": "markdown",
   "metadata": {},
   "source": [
    "## Read in parameter estimates for GCall and GCfix"
   ]
  },
  {
   "cell_type": "code",
   "execution_count": null,
   "metadata": {},
   "outputs": [],
   "source": [
    "params_df = pd.read_csv(\"../data/internal_datasets/GCall/params.csv\", dtype={'seq_id': str})\n",
    "params_df['GC'] = \"GCall\"\n",
    "params_df['seq_id'] = \"GCall_\" + params_df['seq_id']\n",
    "\n",
    "params_df = params_df.set_index(\"seq_id\")\n",
    "params_df.index.name = None\n",
    "params_df"
   ]
  },
  {
   "cell_type": "markdown",
   "metadata": {},
   "source": [
    "## Join coverage data and parameter estimates"
   ]
  },
  {
   "cell_type": "code",
   "execution_count": null,
   "metadata": {},
   "outputs": [],
   "source": [
    "df = pop_df.merge(params_df, how=\"inner\", left_index=True, right_index=True)\n",
    "df"
   ]
  },
  {
   "cell_type": "markdown",
   "metadata": {},
   "source": [
    "## Select example sequences"
   ]
  },
  {
   "cell_type": "code",
   "execution_count": null,
   "metadata": {},
   "outputs": [],
   "source": [
    "params = df.loc[list(colormap.keys())].copy()\n",
    "params"
   ]
  },
  {
   "cell_type": "markdown",
   "metadata": {},
   "source": [
    "## Plot coverage distributions"
   ]
  },
  {
   "cell_type": "code",
   "execution_count": null,
   "metadata": {},
   "outputs": [],
   "source": [
    "plot_df = pd.melt(\n",
    "    df.reset_index(), \n",
    "    id_vars=['index', \"GC\", \"eff\", \"x0\"],\n",
    "    value_vars=[f'PCR{str(i).zfill(1)}' for i in range(1, 6+1)],\n",
    "    var_name='PCR',\n",
    "    value_name='x',\n",
    ")\n",
    "plot_df['n_cycles'] = plot_df['PCR'].str.extract(r'(\\d+)').astype(int)*15\n",
    "plot_df.loc[plot_df['x'].isna(), 'x'] = 0\n",
    "\n",
    "plot_df"
   ]
  },
  {
   "cell_type": "markdown",
   "metadata": {},
   "source": [
    "### A single panel for the main figure"
   ]
  },
  {
   "cell_type": "code",
   "execution_count": null,
   "metadata": {},
   "outputs": [],
   "source": [
    "iplot_df = plot_df.loc[plot_df.PCR == \"PCR4\"].copy()\n",
    "icolormap = {\n",
    "    \"GCall_000835\": \"#de2d26\",\n",
    "    \"GCall_000006\": \"#444444\",\n",
    "    \"GCall_001634\": \"#3182bd\",\n",
    "}\n",
    "\n",
    "fig = px.histogram(\n",
    "    iplot_df, \n",
    "    x='x', \n",
    "    facet_col_spacing=0.02,\n",
    "    color_discrete_sequence=['#cccccc'], \n",
    "    range_x=[0, 2.5], \n",
    "    # range_y=[0, 2000], \n",
    "    histnorm='probability',\n",
    ")\n",
    "fig.update_traces(xbins=dict(start=0.0, end=2.5, size=0.1), selector=dict(type='histogram'))\n",
    "fig.update_layout(\n",
    "    height=160, \n",
    "    width=680, \n",
    "    margin=dict(l=0, r=10, t=20, b=0),\n",
    "    showlegend=False,\n",
    ")\n",
    "fig.for_each_annotation(lambda a: a.update(text=f\"{a.text.split(\"=\")[-1]} cycles\"))\n",
    "fig.update_xaxes(\n",
    "    title_text='Relative coverage', \n",
    "    dtick=1,\n",
    "    minor_dtick=0.5\n",
    ")\n",
    "fig.update_yaxes(\n",
    "    title_text='', \n",
    "    dtick=500, \n",
    "    minor_dtick=250\n",
    ")\n",
    "fig.update_yaxes(title_text='Number of sequences', row=1, col=1)\n",
    "fig.update_traces(marker=dict(line_width=0), selector=dict(type='histogram')) \n",
    "\n",
    "\n",
    "for seq_id in params.index:\n",
    "    color = icolormap[seq_id]\n",
    "    fig.add_vline(\n",
    "        x=params.loc[seq_id, f'PCR4'], \n",
    "        line_width=1.5, \n",
    "        line_color=color, \n",
    "        row=1,\n",
    "        col=1,\n",
    "        opacity=1.0,\n",
    "    )\n",
    "\n",
    "\n",
    "fig.update_layout(\n",
    "    xaxis_title=\"Relative coverage\",\n",
    "    yaxis_title=\"# Sequences\",\n",
    "    margin=dict(l=0, r=5, t=10, b=20),\n",
    "    height=75,\n",
    "    width=110,\n",
    "    showlegend=False,\n",
    ")\n",
    "\n",
    "fig.update_layout(\n",
    "    template=\"simple_white\",\n",
    "    font_family=\"Inter\",\n",
    "    legend_font_size=20/3,\n",
    ")\n",
    "fig.update_yaxes(\n",
    "    minor_ticks=\"outside\", \n",
    "    title_font_family=\"Inter\", \n",
    "    title_font_size=20/3, \n",
    "    tickfont_size=20/3, \n",
    ")\n",
    "fig.update_xaxes(\n",
    "    minor_ticks=\"outside\", \n",
    "    title_font_family=\"Inter\", \n",
    "    title_font_size=20/3, \n",
    "    tickfont_size=20/3, \n",
    ")\n",
    "fig.show()\n",
    "fig.write_image(\"./figure_1/cov_dist.svg\")"
   ]
  },
  {
   "cell_type": "markdown",
   "metadata": {},
   "source": [
    "### All panels for the SI figure"
   ]
  },
  {
   "cell_type": "code",
   "execution_count": null,
   "metadata": {},
   "outputs": [],
   "source": [
    "fig = px.histogram(\n",
    "    plot_df, \n",
    "    x='x', \n",
    "    facet_col=\"n_cycles\",\n",
    "    color=\"n_cycles\",\n",
    "    facet_col_spacing=0.02,\n",
    "    color_discrete_map={\n",
    "        15: '#9ecae1',  \n",
    "        30: '#6baed6', \n",
    "        45: '#4292c6', \n",
    "        60: '#2171b5', \n",
    "        75: '#08519c', \n",
    "        90: '#08306b', \n",
    "    },\n",
    "    range_x=[0, 2.5], \n",
    "    range_y=[0, 2000], \n",
    ")\n",
    "fig.update_traces(xbins=dict(start=0.0, end=2.5, size=0.1), selector=dict(type='histogram'))\n",
    "fig.update_layout(\n",
    "    height=160, \n",
    "    width=680, \n",
    "    margin=dict(l=0, r=10, t=20, b=0),\n",
    "    showlegend=False,\n",
    ")\n",
    "fig.for_each_annotation(lambda a: a.update(text=f\"{a.text.split(\"=\")[-1]} cycles\"))\n",
    "fig.update_xaxes(\n",
    "    title_text='Relative coverage', \n",
    "    dtick=1,\n",
    "    minor_dtick=0.25\n",
    ")\n",
    "fig.update_yaxes(\n",
    "    title_text='', \n",
    "    dtick=500, \n",
    "    minor_dtick=250\n",
    ")\n",
    "fig.update_yaxes(title_text='Number of sequences', row=1, col=1)\n",
    "fig.update_traces(marker=dict(line_width=0), selector=dict(type='histogram')) \n",
    "\n",
    "\n",
    "for seq_id in params.index:\n",
    "    for i in range(1, 6+1):\n",
    "        color = colormap[seq_id]\n",
    "        fig.add_vline(\n",
    "            x=params.loc[seq_id, f'PCR{i}'], \n",
    "            line_width=1.5, \n",
    "            line_color=color, \n",
    "            row=1,\n",
    "            col=i,\n",
    "            opacity=1.0,\n",
    "        )\n",
    "\n",
    "\n",
    "\n",
    "\n",
    "fig = plotting.standardize_plot(fig)\n",
    "fig.show()\n",
    "fig.write_image(\"./SI_figure_pcr_model_explanation/cov_dist.svg\")\n",
    "\n",
    "# export data as well\n",
    "plot_df.to_csv(\"./SI_figure_pcr_model_explanation/cov_dist.csv\", index=False)\n",
    "params.to_csv(\"./SI_figure_pcr_model_explanation/params.csv\", index=True)"
   ]
  },
  {
   "cell_type": "markdown",
   "metadata": {},
   "source": [
    "## Plot efficiency distributions"
   ]
  },
  {
   "cell_type": "code",
   "execution_count": null,
   "metadata": {},
   "outputs": [],
   "source": [
    "plot_df = df.copy()\n",
    "\n",
    "plot_df"
   ]
  },
  {
   "cell_type": "code",
   "execution_count": null,
   "metadata": {},
   "outputs": [],
   "source": [
    "fig = px.histogram(\n",
    "    plot_df, \n",
    "    x='eff',\n",
    "    color_discrete_sequence=[\"#fd8d3c\"],\n",
    "    facet_col_spacing=0.05,\n",
    "    range_x=[0.94, 1.02], \n",
    "    range_y=[0, 1250], \n",
    ")\n",
    "fig.update_traces(xbins=dict(start=0.70, end=1.1, size=0.001), selector=dict(type='histogram'))\n",
    "fig.update_layout(\n",
    "    height=175, \n",
    "    width=175, \n",
    "    margin=dict(l=0, r=10, t=5, b=0),\n",
    "    showlegend=False,\n",
    ")\n",
    "fig.update_xaxes(\n",
    "    title_text='Relative PCR efficiency', \n",
    "    dtick=0.02,\n",
    "    minor_dtick=0.01\n",
    ")\n",
    "fig.update_yaxes(\n",
    "    title_text='', \n",
    "    dtick=500, \n",
    "    minor_dtick=250\n",
    ")\n",
    "fig.update_yaxes(\n",
    "    title_text='Number of sequences',\n",
    "    row=1,\n",
    "    col=1,\n",
    ")\n",
    "fig.update_traces(marker=dict(line_width=0), selector=dict(type='histogram')) \n",
    "\n",
    "\n",
    "for seq_id in params.index:\n",
    "    color = colormap[seq_id]\n",
    "    fig.add_vline(\n",
    "        x=params.loc[seq_id, f'eff'], \n",
    "        line_width=1.5, \n",
    "        line_color=color, \n",
    "        row=1,\n",
    "        col=1,\n",
    "        opacity=1.0,\n",
    "    )\n",
    "\n",
    "\n",
    "fig = plotting.standardize_plot(fig)\n",
    "fig.show()\n",
    "fig.write_image(\"./SI_figure_pcr_model_explanation/eff_dist.svg\")"
   ]
  },
  {
   "cell_type": "markdown",
   "metadata": {},
   "source": [
    "## Plot initial abundance distributions"
   ]
  },
  {
   "cell_type": "code",
   "execution_count": null,
   "metadata": {},
   "outputs": [],
   "source": [
    "plot_df = df.copy()\n",
    "\n",
    "plot_df"
   ]
  },
  {
   "cell_type": "code",
   "execution_count": null,
   "metadata": {},
   "outputs": [],
   "source": [
    "fig = px.histogram(\n",
    "    plot_df, \n",
    "    x='x0',\n",
    "    color_discrete_sequence=[\"#fd8d3c\"],\n",
    "    facet_col_spacing=0.05,\n",
    "    range_x=[0, 2.5], \n",
    "    range_y=[0, 1250], \n",
    ")\n",
    "fig.update_traces(xbins=dict(start=0, end=5, size=0.07), selector=dict(type='histogram'))\n",
    "fig.update_layout(\n",
    "    height=175, \n",
    "    width=175, \n",
    "    margin=dict(l=0, r=10, t=5, b=0),\n",
    "    showlegend=False,\n",
    ")\n",
    "fig.update_xaxes(\n",
    "    title_text='Relative initial abundance', \n",
    "    dtick=1,\n",
    "    minor_dtick=0.25\n",
    ")\n",
    "fig.update_yaxes(\n",
    "    title_text='', \n",
    "    dtick=500, \n",
    "    minor_dtick=250\n",
    ")\n",
    "fig.update_yaxes(title_text='Number of sequences')\n",
    "fig.update_traces(marker=dict(line_width=0), selector=dict(type='histogram')) \n",
    "\n",
    "\n",
    "for seq_id in params.index:\n",
    "    color = colormap[seq_id]\n",
    "    fig.add_vline(\n",
    "        x=params.loc[seq_id, f'x0'], \n",
    "        line_width=1.5, \n",
    "        line_color=color, \n",
    "        row=1,\n",
    "        col=1,\n",
    "        opacity=1.0,\n",
    "    )\n",
    "\n",
    "\n",
    "fig = plotting.standardize_plot(fig)\n",
    "fig.show()\n",
    "fig.write_image(\"./SI_figure_pcr_model_explanation/x0_dist.svg\")"
   ]
  }
 ],
 "metadata": {
  "kernelspec": {
   "display_name": "standard-3.12",
   "language": "python",
   "name": "python3"
  },
  "language_info": {
   "codemirror_mode": {
    "name": "ipython",
    "version": 3
   },
   "file_extension": ".py",
   "mimetype": "text/x-python",
   "name": "python",
   "nbconvert_exporter": "python",
   "pygments_lexer": "ipython3",
   "version": "3.12.3"
  }
 },
 "nbformat": 4,
 "nbformat_minor": 2
}
