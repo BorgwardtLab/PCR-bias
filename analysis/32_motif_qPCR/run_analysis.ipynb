{
 "cells": [
  {
   "cell_type": "code",
   "execution_count": null,
   "metadata": {},
   "outputs": [],
   "source": [
    "import pandas as pd\n",
    "import numpy as np\n",
    "import plotly.express as px\n",
    "import statsmodels.formula.api as smf\n",
    "import statsmodels.stats.descriptivestats as smd\n",
    "import statsmodels.api as sm\n",
    "import scipy.stats\n",
    "from statsmodels.stats.multicomp import pairwise_tukeyhsd\n",
    "import plotly.graph_objects as go\n",
    "from plotly.subplots import make_subplots\n",
    "\n",
    "import sys\n",
    "sys.path.append('../')\n",
    "import plotting\n",
    "\n",
    "colormap = {\n",
    "    \"#11493\": \"#de2d26\",\n",
    "    \"#00006\": \"#969696\",\n",
    "    \"#09807\": \"#de2d26\",\n",
    "    \"#01634\": \"#3182bd\",\n",
    "}"
   ]
  },
  {
   "cell_type": "markdown",
   "metadata": {},
   "source": [
    "# Load qPCR data"
   ]
  },
  {
   "cell_type": "code",
   "execution_count": null,
   "metadata": {},
   "outputs": [],
   "source": [
    "dfs = []\n",
    "for exp in (\"Exp1\", \"Exp2\", \"Exp3\"):\n",
    "    for primer in ['', '_4W']:\n",
    "        df = pd.read_csv(f\"../data/qpcr/{exp}{primer}.csv\")\n",
    "        df['exp'] = exp\n",
    "        df['primer'] = '0FR_4W' if primer == '_4W' else '0FR'\n",
    "        dfs.append(df)\n",
    "\n",
    "df = pd.concat(dfs)\n",
    "df"
   ]
  },
  {
   "cell_type": "markdown",
   "metadata": {},
   "source": [
    "# Remove NTCs and insert seq_id"
   ]
  },
  {
   "cell_type": "code",
   "execution_count": null,
   "metadata": {},
   "outputs": [],
   "source": [
    "df = df[df['sample'] != \"ntc\"].copy()\n",
    "\n",
    "sample_to_seqid = {\n",
    "    \"1\": \"#11493\",\n",
    "    \"2\": \"#00006\",\n",
    "    \"3\": \"#09807\",\n",
    "    \"4\": \"#01634\",\n",
    "}\n",
    "df['seq_id'] = df['sample'].astype(str).map(sample_to_seqid)\n",
    "\n",
    "df"
   ]
  },
  {
   "cell_type": "markdown",
   "metadata": {},
   "source": [
    "# Plot calibration curves only for wobble primer"
   ]
  },
  {
   "cell_type": "code",
   "execution_count": null,
   "metadata": {},
   "outputs": [],
   "source": [
    "plot_df = df.loc[df.primer == \"0FR_4W\"].copy()\n",
    "\n",
    "fig = px.scatter(\n",
    "    plot_df, \n",
    "    x=\"dilution\", \n",
    "    y=\"Ct\", \n",
    "    color=\"seq_id\", \n",
    "    facet_col=\"exp\",\n",
    "    trendline=\"ols\",\n",
    "    color_discrete_map={\n",
    "        \"#11493\": \"#fb6a4a\",\n",
    "        \"#00006\": \"#969696\",\n",
    "        \"#09807\": \"#a50f15\",\n",
    "        \"#01634\": \"#74c476\",\n",
    "    },\n",
    ")\n",
    "fig.update_layout(\n",
    "    yaxis_title=\"Cycle threshold\",\n",
    "    margin=dict(l=0, r=0, t=12, b=0),\n",
    "    height=300,\n",
    "    width=680,\n",
    ")\n",
    "\n",
    "fig.for_each_annotation(lambda a: a.update(text=a.text.split(\"=\")[-1]))\n",
    "fig.update_xaxes(\n",
    "    title=\"log10(dilution)\",\n",
    ")\n",
    "\n",
    "fig = plotting.standardize_plot(fig)\n",
    "fig.write_image(\"./SI_figure_qpcr_calibration/qpcr_ct.svg\")\n",
    "fig.show()\n",
    "\n",
    "# also save the data\n",
    "plot_df.to_csv(\"./SI_figure_qpcr_calibration/qpcr_ct.csv\", index=False)"
   ]
  },
  {
   "cell_type": "markdown",
   "metadata": {},
   "source": [
    "# Plot for all"
   ]
  },
  {
   "cell_type": "code",
   "execution_count": null,
   "metadata": {},
   "outputs": [],
   "source": [
    "fig = px.scatter(\n",
    "    df, \n",
    "    x=\"dilution\", \n",
    "    y=\"Ct\", \n",
    "    color=\"seq_id\", \n",
    "    symbol=\"primer\",\n",
    "    facet_col=\"exp\",\n",
    "    trendline=\"ols\",\n",
    "    color_discrete_map={\n",
    "        \"#11493\": \"#fb6a4a\",\n",
    "        \"#00006\": \"#969696\",\n",
    "        \"#09807\": \"#a50f15\",\n",
    "        \"#01634\": \"#74c476\",\n",
    "    },\n",
    ")\n",
    "fig.update_layout(\n",
    "    yaxis_title=\"Cycle threshold\",\n",
    "    margin=dict(l=0, r=0, t=12, b=0),\n",
    "    height=300,\n",
    "    width=680,\n",
    ")\n",
    "\n",
    "fig.for_each_annotation(lambda a: a.update(text=a.text.split(\"=\")[-1]))\n",
    "fig.update_xaxes(\n",
    "    title=\"log10(dilution)\",\n",
    ")\n",
    "\n",
    "fig = plotting.standardize_plot(fig)\n",
    "fig.show()"
   ]
  },
  {
   "cell_type": "markdown",
   "metadata": {},
   "source": [
    "# Find regression data"
   ]
  },
  {
   "cell_type": "code",
   "execution_count": null,
   "metadata": {},
   "outputs": [],
   "source": [
    "data = px.get_trendline_results(fig).copy()\n",
    "data[[\"slope\", \"intercept\", \"R2\"]] = data.px_fit_results.apply(lambda x: pd.Series({\"slope\": x.params[1], \"intercept\": x.params[0], \"R2\": x.rsquared}))\n",
    "data['eff_exp'] = 10**(1/data['slope'])-1\n",
    "\n",
    "data"
   ]
  },
  {
   "cell_type": "code",
   "execution_count": null,
   "metadata": {},
   "outputs": [],
   "source": [
    "res = {}\n",
    "for group in data['seq_id'].unique():\n",
    "    for primer in data['primer'].unique():\n",
    "        idata = data[(data['seq_id'] == group) & (data['primer'] == primer)]\n",
    "        res[(group, primer)] = smd.describe(idata['eff_exp'], stats=['mean', 'ci'], use_t=True)['eff_exp']\n",
    "        res[(group, primer)]['delta_ci'] = res[(group, primer)]['upper_ci'] - res[(group, primer)]['mean']\n",
    "pd.DataFrame(res.values(), index=res.keys())"
   ]
  },
  {
   "cell_type": "markdown",
   "metadata": {},
   "source": [
    "# Plot experimental efficiency"
   ]
  },
  {
   "cell_type": "code",
   "execution_count": null,
   "metadata": {},
   "outputs": [],
   "source": [
    "result = data.groupby(['seq_id', 'primer'], as_index=False).agg({'eff_exp':['mean','std']})\n",
    "result.columns = ['seq_id', 'primer', 'mean', 'std']\n",
    "result['id'] = result['seq_id'] + result['primer']\n",
    "\n",
    "cut_interval = [0.05, 0.55]\n",
    "bar = px.bar(\n",
    "    result,\n",
    "    x=\"seq_id\",\n",
    "    color=\"primer\",\n",
    "    y=\"mean\",\n",
    "    barmode=\"group\",\n",
    "    color_discrete_map=colormap,\n",
    ")\n",
    "fig = make_subplots(\n",
    "    rows=2,\n",
    "    cols=1,\n",
    "    row_heights=[0.8, 0.2],\n",
    "    vertical_spacing=0.05,\n",
    "    shared_xaxes=True,\n",
    ")\n",
    "\n",
    "fig.add_traces(bar.data, rows=[1]*len(bar.data), cols=[1]*len(bar.data))\n",
    "fig.add_traces(bar.data, rows=[2]*len(bar.data), cols=[1]*len(bar.data))\n",
    "\n",
    "fig.update_yaxes(range=[cut_interval[1], 1], row=1, col=1)\n",
    "fig.update_xaxes(visible=False, row=1, col=1)\n",
    "fig.update_yaxes(range=[0, cut_interval[0]], row=2, col=1)\n",
    "\n",
    "fig.update_traces(marker_color=[\n",
    "    colormap[\"#00006\"],\n",
    "    colormap[\"#01634\"],\n",
    "    colormap[\"#09807\"],\n",
    "    colormap[\"#11493\"],\n",
    "])\n",
    "\n",
    "fig.add_trace(\n",
    "    px.scatter(\n",
    "        data.loc[data['primer'] == '0FR_4W'],\n",
    "        x=\"seq_id\",\n",
    "        y=\"eff_exp\",\n",
    "        color_discrete_sequence=[\"black\"]\n",
    "    ).data[0]\n",
    ")\n",
    "fig.add_trace(\n",
    "    px.scatter(\n",
    "        data.loc[data['primer'] == '0FR'],\n",
    "        x=\"seq_id\",\n",
    "        y=\"eff_exp\",\n",
    "        color_discrete_sequence=[\"black\"]\n",
    "    ).data[0]\n",
    ")\n",
    "\n",
    "\n",
    "fig.update_layout(\n",
    "    xaxis_title=\"Sequence ID\",\n",
    "    yaxis_title=\"qPCR efficiency\",\n",
    "    width=200,\n",
    "    height=200,\n",
    "    margin=dict(l=0, r=10, t=10, b=0),\n",
    "    showlegend=False,\n",
    ")\n",
    "\n",
    "fig.update_yaxes(\n",
    "    tickformat=',.0%', \n",
    "    dtick=0.2,\n",
    "    minor_dtick=0.1,\n",
    ")\n",
    "\n",
    "fig = plotting.standardize_plot(fig)\n",
    "fig.write_image(\"SI_figure_qpcr_calibration/qpcr_efficiency.svg\")\n",
    "fig.show()\n",
    "\n",
    "# also save the data\n",
    "data[['seq_id', 'exp', 'slope', 'intercept', 'R2', 'eff_exp']].to_csv(\"SI_figure_qpcr_calibration/qpcr_efficiency.csv\", index=False)"
   ]
  },
  {
   "cell_type": "markdown",
   "metadata": {},
   "source": [
    "# Two-way ANOVA"
   ]
  },
  {
   "cell_type": "code",
   "execution_count": null,
   "metadata": {},
   "outputs": [],
   "source": [
    "scipy.stats.levene(\n",
    "    *[data.loc[(data['seq_id'] == sid) & (data['primer'] == primer), \"eff_exp\"].values for sid in data.seq_id.unique() for primer in data.primer.unique()], \n",
    "    center='median'\n",
    ")"
   ]
  },
  {
   "cell_type": "code",
   "execution_count": null,
   "metadata": {},
   "outputs": [],
   "source": [
    "m = smf.ols('eff_exp ~ C(seq_id)*C(primer)', data=data).fit()\n",
    "display(m.summary())\n",
    "\n",
    "display(sm.stats.anova_lm(m, typ=2))"
   ]
  }
 ],
 "metadata": {
  "kernelspec": {
   "display_name": "standard-3.12",
   "language": "python",
   "name": "python3"
  },
  "language_info": {
   "codemirror_mode": {
    "name": "ipython",
    "version": 3
   },
   "file_extension": ".py",
   "mimetype": "text/x-python",
   "name": "python",
   "nbconvert_exporter": "python",
   "pygments_lexer": "ipython3",
   "version": "3.12.4"
  }
 },
 "nbformat": 4,
 "nbformat_minor": 2
}
