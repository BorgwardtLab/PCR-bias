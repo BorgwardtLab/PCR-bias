{
 "cells": [
  {
   "cell_type": "code",
   "execution_count": null,
   "metadata": {},
   "outputs": [],
   "source": [
    "import pandas as pd\n",
    "import numpy as np\n",
    "import Bio.SeqIO as SeqIO\n",
    "import plotly.express as px\n",
    "import statsmodels.stats.descriptivestats\n",
    "\n",
    "import sys\n",
    "sys.path.append('../')\n",
    "import plotting"
   ]
  },
  {
   "cell_type": "markdown",
   "metadata": {},
   "source": [
    "# Function to collect design sequences and the parameters, then perform thresholding"
   ]
  },
  {
   "cell_type": "code",
   "execution_count": null,
   "metadata": {},
   "outputs": [],
   "source": [
    "def compose_df(filepath):\n",
    "    # read reference sequences\n",
    "    ref = {s.id: str(s.seq) for s in SeqIO.parse(f\"{filepath}/design_files.fasta\", \"fasta\")}\n",
    "    ref_df = pd.DataFrame.from_dict(\n",
    "        ref, \n",
    "        orient=\"index\", \n",
    "        columns=[\"sequence\"]\n",
    "    ).reset_index().rename(columns={\"index\": \"seq_id\"})\n",
    "    ref_df['group'] = filepath\n",
    "\n",
    "    # read parameters for the sequences\n",
    "    tot_df = pd.merge(\n",
    "        ref_df, \n",
    "        pd.read_csv(\n",
    "            f\"{filepath}/params.csv\", \n",
    "            dtype={'seq_id': str}\n",
    "        ), \n",
    "        on=\"seq_id\"\n",
    "    )\n",
    "\n",
    "    # assign label based on threshold\n",
    "    def ecdf(a):\n",
    "        x, counts = np.unique(a, return_counts=True)\n",
    "        cusum = np.cumsum(counts)\n",
    "        return x, cusum / cusum[-1]\n",
    "    x, y = ecdf(tot_df['eff'])\n",
    "    tot_df['cat'] = False\n",
    "    tot_df.loc[tot_df['eff'] < x[np.argmax(y > 0.02)], 'cat'] = True \n",
    "\n",
    "    return tot_df"
   ]
  },
  {
   "cell_type": "markdown",
   "metadata": {},
   "source": [
    "# Collect and combine the data from all literature datasets"
   ]
  },
  {
   "cell_type": "code",
   "execution_count": null,
   "metadata": {},
   "outputs": [],
   "source": [
    "data_df = pd.concat([\n",
    "    compose_df(\"../data/internal_datasets/GCall\"), \n",
    "    compose_df(\"../data/internal_datasets/GCfix\"),\n",
    "    compose_df(\"../data/external_datasets/Koch_et_al\"),\n",
    "    compose_df(\"../data/external_datasets/Erlich_et_al\"),\n",
    "    compose_df(\"../data/external_datasets/Song_et_al\"),\n",
    "    compose_df(\"../data/external_datasets/Choi_et_al\"),\n",
    "    compose_df(\"../data/external_datasets/Gao_et_al\"),\n",
    "])\n",
    "data_df['seq_id'] = data_df['group'] + '_' + data_df['seq_id'].astype(str)\n",
    "data_df"
   ]
  },
  {
   "cell_type": "code",
   "execution_count": null,
   "metadata": {},
   "outputs": [],
   "source": [
    "# pivot the dataframe so that each letter of the sequence becomes its own row\n",
    "idata_df = data_df.set_index('seq_id')\n",
    "idata_df = idata_df['sequence'].apply(lambda x: pd.Series(list(x))).reset_index()\n",
    "idata_df = idata_df.merge(data_df[['seq_id', 'group', 'cat']], on='seq_id')\n",
    "idata_df = idata_df.melt(id_vars=['seq_id', 'group', 'cat'], value_name='base', var_name='position')\n",
    "\n",
    "# drop rows where base is NaN\n",
    "idata_df = idata_df.dropna(subset=['base'])\n",
    "\n",
    "idata_df"
   ]
  },
  {
   "cell_type": "code",
   "execution_count": null,
   "metadata": {},
   "outputs": [],
   "source": [
    "# group by group, cat and position, then get mean ratio of each base and the ratio of GC\n",
    "def get_ratio(group):\n",
    "    series = group['base'].value_counts(normalize=True)\n",
    "    series['A'] = series.get('A', 0.0)\n",
    "    series['T'] = series.get('T', 0.0)\n",
    "    series['G'] = series.get('G', 0.0)\n",
    "    series['C'] = series.get('C', 0.0)\n",
    "    series['GC'] = series['G'] + series['C']\n",
    "    return series\n",
    "ratio_df = idata_df.groupby(['group', 'cat', 'position']).apply(get_ratio).reset_index()\n",
    "\n",
    "ratio_df"
   ]
  },
  {
   "cell_type": "code",
   "execution_count": null,
   "metadata": {},
   "outputs": [],
   "source": [
    "# use a rolling mean for the proprtion of each base\n",
    "ratio_df['proportion_smooth'] = ratio_df.groupby(['group', 'cat', 'base'])['proportion'].transform(lambda x: x.rolling(5, center=True, min_periods=1).mean())\n",
    "ratio_df['group'] = ratio_df['group'].str.split('/').str[-1]\n",
    "\n",
    "fig = px.line(\n",
    "    ratio_df.sort_values('position'),\n",
    "    x='position',\n",
    "    y='proportion_smooth',\n",
    "    color='cat',\n",
    "    facet_row='group',\n",
    "    facet_col_spacing=0.035,\n",
    "    facet_row_spacing=0.05,\n",
    "    facet_col='base',\n",
    "    category_orders={\n",
    "        'base': ['A', 'C', 'G', 'T', 'GC'],\n",
    "        'group': ['GCall', 'GCfix', 'Koch_et_al', 'Erlich_et_al', 'Song_et_al', 'Choi_et_al', 'Gao_et_al'],\n",
    "    },\n",
    ")\n",
    "\n",
    "\n",
    "fig.update_yaxes(dtick=0.25, minor_dtick=0.25/2)\n",
    "fig.update_yaxes(title_text='Proportion', range=[0, 0.75], col=1)\n",
    "fig.update_xaxes(matches=None)\n",
    "fig.update_xaxes(title_text='Position', row=1)\n",
    "fig.for_each_xaxis(lambda xaxis: xaxis.update(showticklabels=True, dtick=50, minor_dtick=25))\n",
    "fig.for_each_annotation(lambda a: a.update(text=a.text.split(\"=\")[-1]))\n",
    "\n",
    "fig.update_layout(\n",
    "    height=900,\n",
    "    width=680,\n",
    "    showlegend=False,\n",
    "    margin=dict(l=0, r=20, t=20, b=0),\n",
    ")\n",
    "\n",
    "fig = plotting.standardize_plot(fig)\n",
    "fig.show()\n",
    "fig.write_image(\"./SI_figure_base_analysis/literature_datasets.svg\")"
   ]
  },
  {
   "cell_type": "markdown",
   "metadata": {},
   "source": [
    "# Collect and combine the data from the validation experiments, but remove the sequences with deliberate motifs"
   ]
  },
  {
   "cell_type": "code",
   "execution_count": null,
   "metadata": {},
   "outputs": [],
   "source": [
    "def compose_df(filepath, motif_df):\n",
    "    # read reference sequences\n",
    "    ref = {s.id: str(s.seq) for s in SeqIO.parse(f\"{filepath}/design_files.fasta\", \"fasta\")}\n",
    "    ref_df = pd.DataFrame.from_dict(\n",
    "        ref, \n",
    "        orient=\"index\", \n",
    "        columns=[\"sequence\"]\n",
    "    ).reset_index().rename(columns={\"index\": \"seq_id\"})\n",
    "    ref_df['group'] = filepath\n",
    "\n",
    "    # read parameters for the sequences\n",
    "    tot_df = pd.merge(\n",
    "        ref_df, \n",
    "        pd.read_csv(\n",
    "            f\"{filepath}/params.csv\", \n",
    "            dtype={'seq_id': str}\n",
    "        ), \n",
    "        on=\"seq_id\"\n",
    "    )\n",
    "\n",
    "    # remove the sequences with inserted motifs\n",
    "    selected_seqs = motif_df.loc[motif_df['has_insertedmotif'] == False, 'seq_id_anonymized']\n",
    "    tot_df = tot_df.loc[tot_df['seq_id'].isin(selected_seqs)]\n",
    "\n",
    "    # assign label based on threshold\n",
    "    def ecdf(a):\n",
    "        x, counts = np.unique(a, return_counts=True)\n",
    "        cusum = np.cumsum(counts)\n",
    "        return x, cusum / cusum[-1]\n",
    "    x, y = ecdf(tot_df['eff'])\n",
    "    tot_df['cat'] = False\n",
    "    tot_df.loc[tot_df['eff'] < x[np.argmax(y > 0.02)], 'cat'] = True \n",
    "\n",
    "    return tot_df"
   ]
  },
  {
   "cell_type": "code",
   "execution_count": null,
   "metadata": {},
   "outputs": [],
   "source": [
    "ref_df = pd.read_csv('../43_external_validation_motifs/sequence_data_anonymized_no_duplicates.csv')\n",
    "\n",
    "data_df = pd.concat([\n",
    "    compose_df(\"../data/internal_datasets/validation_GCall_fix\", ref_df),\n",
    "    compose_df(\"../data/internal_datasets/validation_Erlich_et_al\", ref_df),\n",
    "    compose_df(\"../data/internal_datasets/validation_Erlich_et_al_internalrepeat\", ref_df),\n",
    "])\n",
    "data_df['seq_id'] = data_df['group'] + '_' + data_df['seq_id'].astype(str)\n",
    "data_df"
   ]
  },
  {
   "cell_type": "code",
   "execution_count": null,
   "metadata": {},
   "outputs": [],
   "source": [
    "# pivot the dataframe so that each letter of the sequence becomes its own row\n",
    "idata_df = data_df.set_index('seq_id')\n",
    "idata_df = idata_df['sequence'].apply(lambda x: pd.Series(list(x))).reset_index()\n",
    "idata_df = idata_df.merge(data_df[['seq_id', 'group', 'cat']], on='seq_id')\n",
    "idata_df = idata_df.melt(id_vars=['seq_id', 'group', 'cat'], value_name='base', var_name='position')\n",
    "\n",
    "# drop rows where base is NaN\n",
    "idata_df = idata_df.dropna(subset=['base'])\n",
    "\n",
    "idata_df"
   ]
  },
  {
   "cell_type": "code",
   "execution_count": null,
   "metadata": {},
   "outputs": [],
   "source": [
    "# group by group, cat and position, then get mean ratio of each base and the ratio of GC\n",
    "def get_ratio(group):\n",
    "    series = group['base'].value_counts(normalize=True)\n",
    "    series['A'] = series.get('A', 0.0)\n",
    "    series['T'] = series.get('T', 0.0)\n",
    "    series['G'] = series.get('G', 0.0)\n",
    "    series['C'] = series.get('C', 0.0)\n",
    "    series['GC'] = series['G'] + series['C']\n",
    "    return series\n",
    "ratio_df = idata_df.groupby(['group', 'cat', 'position']).apply(get_ratio).reset_index()\n",
    "\n",
    "ratio_df"
   ]
  },
  {
   "cell_type": "code",
   "execution_count": null,
   "metadata": {},
   "outputs": [],
   "source": [
    "# use a rolling mean for the proprtion of each base\n",
    "ratio_df['proportion_smooth'] = ratio_df.groupby(['group', 'cat', 'base'])['proportion'].transform(lambda x: x.rolling(5, center=True, min_periods=1).mean())\n",
    "ratio_df['group'] = ratio_df['group'].str.split('/').str[-1]\n",
    "\n",
    "fig = px.line(\n",
    "    ratio_df.sort_values('position'),\n",
    "    x='position',\n",
    "    y='proportion_smooth',\n",
    "    color='cat',\n",
    "    facet_row='group',\n",
    "    facet_col_spacing=0.035,\n",
    "    facet_row_spacing=0.10,\n",
    "    facet_col='base',\n",
    "    category_orders={\n",
    "        'base': ['A', 'C', 'G', 'T', 'GC'],\n",
    "        'group': ['validation_GCall_fix', 'validation_Erlich_et_al', 'validation_Erlich_et_al_internalrepeat'],\n",
    "    },\n",
    ")\n",
    "\n",
    "\n",
    "fig.update_yaxes(dtick=0.25, minor_dtick=0.25/2)\n",
    "fig.update_yaxes(title_text='Proportion', range=[0, 0.75], col=1)\n",
    "fig.update_xaxes(matches=None)\n",
    "fig.update_xaxes(title_text='Position', row=1)\n",
    "fig.for_each_xaxis(lambda xaxis: xaxis.update(showticklabels=True, dtick=50, minor_dtick=25))\n",
    "fig.for_each_annotation(lambda a: a.update(text=a.text.split(\"=\")[-1]))\n",
    "\n",
    "fig.update_layout(\n",
    "    height=400,\n",
    "    width=680,\n",
    "    showlegend=False,\n",
    "    margin=dict(l=0, r=20, t=20, b=0),\n",
    ")\n",
    "\n",
    "fig = plotting.standardize_plot(fig)\n",
    "fig.show()\n",
    "fig.write_image(\"./SI_figure_base_analysis/validation_datasets.svg\")"
   ]
  }
 ],
 "metadata": {
  "kernelspec": {
   "display_name": "standard-3.12",
   "language": "python",
   "name": "python3"
  },
  "language_info": {
   "codemirror_mode": {
    "name": "ipython",
    "version": 3
   },
   "file_extension": ".py",
   "mimetype": "text/x-python",
   "name": "python",
   "nbconvert_exporter": "python",
   "pygments_lexer": "ipython3",
   "version": "3.12.3"
  }
 },
 "nbformat": 4,
 "nbformat_minor": 2
}
