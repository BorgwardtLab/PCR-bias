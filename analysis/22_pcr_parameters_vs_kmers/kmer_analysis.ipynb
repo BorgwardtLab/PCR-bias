{
 "cells": [
  {
   "cell_type": "code",
   "execution_count": null,
   "metadata": {},
   "outputs": [],
   "source": [
    "import pandas as pd\n",
    "import numpy as np\n",
    "import Bio.SeqIO as SeqIO\n",
    "import plotly.express as px\n",
    "import statsmodels.stats.descriptivestats\n",
    "\n",
    "import sys\n",
    "sys.path.append('../')\n",
    "import plotting"
   ]
  },
  {
   "cell_type": "markdown",
   "metadata": {},
   "source": [
    "# Function to collect design sequences and the parameters, then perform thresholding"
   ]
  },
  {
   "cell_type": "code",
   "execution_count": null,
   "metadata": {},
   "outputs": [],
   "source": [
    "def compose_df(filepath):\n",
    "    # read reference sequences\n",
    "    ref = {s.id: str(s.seq) for s in SeqIO.parse(f\"{filepath}/design_files.fasta\", \"fasta\")}\n",
    "    ref_df = pd.DataFrame.from_dict(\n",
    "        ref, \n",
    "        orient=\"index\", \n",
    "        columns=[\"sequence\"]\n",
    "    ).reset_index().rename(columns={\"index\": \"seq_id\"})\n",
    "    ref_df['group'] = filepath\n",
    "\n",
    "    # read parameters for the sequences\n",
    "    tot_df = pd.merge(\n",
    "        ref_df, \n",
    "        pd.read_csv(\n",
    "            f\"{filepath}/params.csv\", \n",
    "            dtype={'seq_id': str}\n",
    "        ), \n",
    "        on=\"seq_id\"\n",
    "    )\n",
    "\n",
    "    # assign label based on threshold\n",
    "    def ecdf(a):\n",
    "        x, counts = np.unique(a, return_counts=True)\n",
    "        cusum = np.cumsum(counts)\n",
    "        return x, cusum / cusum[-1]\n",
    "    x, y = ecdf(tot_df['eff'])\n",
    "    tot_df['cat'] = False\n",
    "    tot_df.loc[tot_df['eff'] < x[np.argmax(y > 0.02)], 'cat'] = True \n",
    "\n",
    "    return tot_df"
   ]
  },
  {
   "cell_type": "markdown",
   "metadata": {},
   "source": [
    "# Collect and combine the data from GCall and GCfix"
   ]
  },
  {
   "cell_type": "code",
   "execution_count": null,
   "metadata": {},
   "outputs": [],
   "source": [
    "data_df = pd.concat([compose_df(\"../data/internal_datasets/GCall\"), compose_df(\"../data/internal_datasets/GCfix\")])\n",
    "data_df"
   ]
  },
  {
   "cell_type": "markdown",
   "metadata": {},
   "source": [
    "# Function to collect the kmers and count by category"
   ]
  },
  {
   "cell_type": "code",
   "execution_count": null,
   "metadata": {},
   "outputs": [],
   "source": [
    "def get_kmers_by_cat(df, kmer_length=5):\n",
    "    results = {}\n",
    "\n",
    "    # for each sequence\n",
    "    for row in df.iterrows():\n",
    "        row = row[1]\n",
    "        seq = row[\"sequence\"]\n",
    "        d = results.get(row[\"cat\"], {})\n",
    "\n",
    "        # for each kmer in the sequence\n",
    "        for i in range(len(seq) - kmer_length + 1):\n",
    "            # increase counter\n",
    "            kmer = seq[i:i+kmer_length]\n",
    "            d[kmer] = d.get(kmer, 0) + 1\n",
    "\n",
    "        results[row[\"cat\"]] = d\n",
    "\n",
    "    # create df and normalize to the category size\n",
    "    idf = pd.DataFrame.from_dict(results).fillna(0).reset_index().rename(columns={\"index\": \"kmer\"})\n",
    "    idf['factor'] = idf[True] / idf[False]\n",
    "    idf['norm_factor'] = idf['factor'] / (df[df[\"cat\"]].shape[0] / df.shape[0])\n",
    "    return idf"
   ]
  },
  {
   "cell_type": "markdown",
   "metadata": {},
   "source": [
    "# Get kmer data for 4-, 5-, 6-mers"
   ]
  },
  {
   "cell_type": "code",
   "execution_count": null,
   "metadata": {},
   "outputs": [],
   "source": [
    "kmer_sizes = [4, 5, 6]\n",
    "kmer_dfs = [get_kmers_by_cat(data_df, kmer_length=k) for k in kmer_sizes]\n",
    "kmer_df = pd.concat(kmer_dfs)\n",
    "\n",
    "# add log2 factor\n",
    "kmer_df['log2_norm_factor'] = np.log2(kmer_df['norm_factor'])\n",
    "\n",
    "# add info for base and length, and sort\n",
    "kmer_df['base'] = kmer_df['kmer'].str[0]\n",
    "kmer_df['length'] = kmer_df['kmer'].str.len()\n",
    "kmer_df.sort_values(\"kmer\", inplace=True)\n",
    "\n",
    "kmer_df"
   ]
  },
  {
   "cell_type": "markdown",
   "metadata": {},
   "source": [
    "# Plotting"
   ]
  },
  {
   "cell_type": "code",
   "execution_count": null,
   "metadata": {},
   "outputs": [],
   "source": [
    "colors = {\"A\": \"#31a354\", \"C\": \"#3182bd\", \"G\": \"#fd8d3c\", \"T\": \"#de2d26\"}\n",
    "\n",
    "fig = px.scatter(\n",
    "    kmer_df,\n",
    "    x=\"kmer\",\n",
    "    y=\"log2_norm_factor\",\n",
    "    color=\"base\",\n",
    "    color_discrete_map=colors,\n",
    "    render_mode=\"svg\",\n",
    ")\n",
    "\n",
    "fig.update_traces(marker=dict(size=4, opacity=1))\n",
    "\n",
    "fig.update_xaxes(type='category', showticklabels=False, range=[-50, kmer_df.shape[0]+50])\n",
    "fig.update_yaxes(range=[-4, 4])\n",
    "\n",
    "\n",
    "stats = statsmodels.stats.descriptivestats.describe(kmer_df[\"log2_norm_factor\"].values)[0]\n",
    "threshold = [stats['mean']-5*stats['std'], stats['mean']+5*stats['std']]\n",
    "\n",
    "fig.add_hline(y=0, line_color=\"black\", line_width=1, opacity=1)\n",
    "fig.add_hline(y=threshold[0], line_dash=\"dash\", line_color=\"black\", line_width=1, opacity=1)\n",
    "fig.add_hline(y=threshold[1], line_dash=\"dash\", line_color=\"black\", line_width=1, opacity=1)\n",
    "\n",
    "fig.update_layout(\n",
    "    xaxis_title=\"\",\n",
    "    yaxis_title=\"log2 enrichment in poor sequences\",\n",
    "    showlegend=False,\n",
    "    width=320,\n",
    "    height=150,\n",
    "    margin=dict(l=0, r=5, t=5, b=0),\n",
    ")\n",
    "fig = plotting.standardize_plot(fig)\n",
    "\n",
    "# add sequences above upper threshold\n",
    "upper_hits = kmer_df[kmer_df[\"log2_norm_factor\"] >= threshold[1]]\n",
    "display(upper_hits)\n",
    "for i, row in upper_hits.iterrows():\n",
    "    fig.add_annotation(\n",
    "        x=row[\"kmer\"],\n",
    "        y=row[\"log2_norm_factor\"],\n",
    "        text=row[\"kmer\"],\n",
    "        font_color=colors[row[\"base\"]],\n",
    "        showarrow=False,\n",
    "        yshift=10,\n",
    "    )\n",
    "\n",
    "# add sequences below lower threshold\n",
    "upper_hits = kmer_df[kmer_df[\"log2_norm_factor\"] <= threshold[0]]\n",
    "display(upper_hits)\n",
    "for i, row in upper_hits.iterrows():\n",
    "    fig.add_annotation(\n",
    "        x=row[\"kmer\"],\n",
    "        y=row[\"log2_norm_factor\"],\n",
    "        text=row[\"kmer\"],\n",
    "        font_color=colors[row[\"base\"]],\n",
    "        showarrow=False,\n",
    "        yshift=-10,\n",
    "    )\n",
    "\n",
    "fig.for_each_annotation(lambda a: a.update(\n",
    "    font_size=24/3,\n",
    "    font_family=\"Inter\",\n",
    "))\n",
    "\n",
    "fig.show()\n",
    "fig.write_image(\"./SI_figure_kmer_analysis/kmers.svg\")\n",
    "\n",
    "# save data\n",
    "kmer_df.to_csv(\"./SI_figure_kmer_analysis/kmers.csv\", index=False)"
   ]
  }
 ],
 "metadata": {
  "kernelspec": {
   "display_name": "standard-3.12",
   "language": "python",
   "name": "python3"
  },
  "language_info": {
   "codemirror_mode": {
    "name": "ipython",
    "version": 3
   },
   "file_extension": ".py",
   "mimetype": "text/x-python",
   "name": "python",
   "nbconvert_exporter": "python",
   "pygments_lexer": "ipython3",
   "version": "3.12.3"
  }
 },
 "nbformat": 4,
 "nbformat_minor": 2
}
