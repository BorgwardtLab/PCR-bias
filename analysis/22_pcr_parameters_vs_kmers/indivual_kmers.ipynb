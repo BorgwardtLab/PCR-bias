{
 "cells": [
  {
   "cell_type": "code",
   "execution_count": null,
   "metadata": {},
   "outputs": [],
   "source": [
    "import pandas as pd\n",
    "import numpy as np\n",
    "import Bio.SeqIO as SeqIO\n",
    "import plotly.express as px\n",
    "import re\n",
    "\n",
    "import sys\n",
    "sys.path.append('../')\n",
    "import plotting"
   ]
  },
  {
   "cell_type": "markdown",
   "metadata": {},
   "source": [
    "# Function to find kmers"
   ]
  },
  {
   "cell_type": "code",
   "execution_count": null,
   "metadata": {},
   "outputs": [],
   "source": [
    "def compose_df(filepath):\n",
    "    # read reference sequences\n",
    "    ref = {s.id: str(s.seq) for s in SeqIO.parse(f\"{filepath}/design_files.fasta\", \"fasta\")}\n",
    "    ref_df = pd.DataFrame.from_dict(\n",
    "        ref, \n",
    "        orient=\"index\", \n",
    "        columns=[\"sequence\"]\n",
    "    ).reset_index().rename(columns={\"index\": \"seq_id\"})\n",
    "    ref_df['group'] = filepath\n",
    "\n",
    "    # read parameters for the sequences\n",
    "    tot_df = pd.merge(\n",
    "        ref_df, \n",
    "        pd.read_csv(\n",
    "            f\"{filepath}/params.csv\", \n",
    "            dtype={'seq_id': str}\n",
    "        ), \n",
    "        on=\"seq_id\"\n",
    "    )\n",
    "\n",
    "    # assign label based on threshold\n",
    "    def ecdf(a):\n",
    "        x, counts = np.unique(a, return_counts=True)\n",
    "        cusum = np.cumsum(counts)\n",
    "        return x, cusum / cusum[-1]\n",
    "    x, y = ecdf(tot_df['eff'])\n",
    "    tot_df['cat'] = False\n",
    "    tot_df.loc[tot_df['eff'] < x[np.argmax(y > 0.02)], 'cat'] = True \n",
    "\n",
    "    return tot_df\n",
    "\n",
    "\n",
    "def get_kmer(df, kmer):\n",
    "    d = {\n",
    "        'seq_id': [],\n",
    "        'kmer': [],\n",
    "        'pos': [],\n",
    "        'group': [],\n",
    "        'cat': [],\n",
    "    }\n",
    "    for i, row in df.iterrows():\n",
    "        if kmer not in row['sequence']:\n",
    "            continue\n",
    "        for pos in [m.start() for m in re.finditer(f'(?={kmer})', row['sequence'])]:\n",
    "            d['seq_id'].append(row['seq_id'])\n",
    "            d['kmer'].append(kmer)\n",
    "            d['pos'].append(pos)\n",
    "            d['group'].append(row['group'])\n",
    "            d['cat'].append(row['cat'])\n",
    "    return pd.DataFrame(d)"
   ]
  },
  {
   "cell_type": "markdown",
   "metadata": {},
   "source": [
    "# Use the data of GCall and GCfix"
   ]
  },
  {
   "cell_type": "code",
   "execution_count": null,
   "metadata": {},
   "outputs": [],
   "source": [
    "df = pd.concat([compose_df(\"../data/internal_datasets/GCall\"), compose_df(\"../data/internal_datasets/GCfix\")])\n",
    "df"
   ]
  },
  {
   "cell_type": "code",
   "execution_count": null,
   "metadata": {},
   "outputs": [],
   "source": [
    "idf = pd.concat([get_kmer(df, 'CGTGT'), get_kmer(df, 'AGACG')])\n",
    "\n",
    "fig = px.histogram(\n",
    "    idf, \n",
    "    x='pos', \n",
    "    color='cat', \n",
    "    facet_col='kmer',\n",
    "    facet_col_spacing=0.05,\n",
    "    histnorm='percent',\n",
    "    barmode='overlay',\n",
    "    color_discrete_map={True: '#de2d26', False: '#aaaaaa'},\n",
    "    category_orders={'cat': [False, True]}\n",
    ")\n",
    "\n",
    "fig.update_traces(xbins_size=2)\n",
    "fig.update_traces(marker=dict(line_width=0), selector=dict(type='histogram')) \n",
    "fig.update_yaxes(dtick=5, minor_dtick=2.5)\n",
    "fig.update_xaxes(title=\"Position\")\n",
    "\n",
    "fig.update_layout(\n",
    "    width=680,\n",
    "    height=200,\n",
    "    margin=dict(l=0, r=10, t=20, b=0),\n",
    "    yaxis_title=\"Frequency / %\",\n",
    "    showlegend=False,\n",
    "    bargap=0\n",
    ")\n",
    "\n",
    "fig = plotting.standardize_plot(fig)\n",
    "fig.show()\n",
    "fig.write_image(\"./SI_figure_kmer_analysis/individuals.svg\")"
   ]
  },
  {
   "cell_type": "code",
   "execution_count": null,
   "metadata": {},
   "outputs": [],
   "source": [
    "idf = pd.concat([get_kmer(df, 'TCGTGT'), get_kmer(df, 'AGACGT')])\n",
    "\n",
    "fig = px.histogram(\n",
    "    idf, \n",
    "    x='pos', \n",
    "    color='cat', \n",
    "    facet_col='kmer',\n",
    "    facet_col_spacing=0.05,\n",
    "    histnorm='percent',\n",
    "    barmode='overlay',\n",
    "    color_discrete_map={True: '#de2d26', False: '#aaaaaa'},\n",
    "    category_orders={'cat': [False, True]}\n",
    ")\n",
    "\n",
    "fig.update_traces(xbins_size=2)\n",
    "fig.update_traces(marker=dict(line_width=0), selector=dict(type='histogram')) \n",
    "fig.update_yaxes(dtick=5, minor_dtick=2.5)\n",
    "fig.update_xaxes(title=\"Position\")\n",
    "\n",
    "fig.update_layout(\n",
    "    width=680,\n",
    "    height=200,\n",
    "    margin=dict(l=0, r=10, t=20, b=0),\n",
    "    yaxis_title=\"Frequency / %\",\n",
    "    showlegend=False,\n",
    "    bargap=0\n",
    ")\n",
    "\n",
    "fig = plotting.standardize_plot(fig)\n",
    "fig.show()\n",
    "fig.write_image(\"./SI_figure_kmer_analysis/individuals2.svg\")"
   ]
  }
 ],
 "metadata": {
  "kernelspec": {
   "display_name": "standard-3.12",
   "language": "python",
   "name": "python3"
  },
  "language_info": {
   "codemirror_mode": {
    "name": "ipython",
    "version": 3
   },
   "file_extension": ".py",
   "mimetype": "text/x-python",
   "name": "python",
   "nbconvert_exporter": "python",
   "pygments_lexer": "ipython3",
   "version": "3.12.4"
  }
 },
 "nbformat": 4,
 "nbformat_minor": 2
}
