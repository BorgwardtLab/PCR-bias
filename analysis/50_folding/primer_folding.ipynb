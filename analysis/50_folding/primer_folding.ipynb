{
 "cells": [
  {
   "cell_type": "code",
   "execution_count": null,
   "metadata": {},
   "outputs": [],
   "source": [
    "import numpy as np\n",
    "import pandas as pd\n",
    "from scipy.optimize import fsolve\n",
    "import plotly.express as px\n",
    "\n",
    "import sys\n",
    "sys.path.append('../')\n",
    "import plotting"
   ]
  },
  {
   "cell_type": "code",
   "execution_count": null,
   "metadata": {},
   "outputs": [],
   "source": [
    "params_primer = {'H': -158, 'S': -445}\n",
    "params_motif = {'H': -60.4, 'S': -185}\n",
    "\n",
    "def dG(params, T):\n",
    "    return params['H'] - ((273.15 + T) * params['S'])/1000\n",
    "\n",
    "def K(params, T):\n",
    "    return np.exp(-4184*dG(params, T)/(8.314*(273.15 + T)))"
   ]
  },
  {
   "cell_type": "code",
   "execution_count": null,
   "metadata": {},
   "outputs": [],
   "source": [
    "def model(result, params_primer, params_motif, T, c_DNA_tot, c_primer):\n",
    "    K_primer = K(params_primer, T)\n",
    "    K_motif = K(params_motif, T)\n",
    "    c_DNA = result[0] * c_DNA_tot\n",
    "    c_DNA_blocked = result[1] * c_DNA_tot\n",
    "    c_DNA_primer = result[2] * c_DNA_tot\n",
    "    return [\n",
    "        c_DNA_tot - c_DNA - c_DNA_blocked - c_DNA_primer,\n",
    "        c_DNA - c_DNA_blocked/K_motif,\n",
    "        c_DNA - c_DNA_primer/(K_primer*c_primer)\n",
    "    ]\n",
    "\n",
    "def solve(T, c_DNA_tot, c_primer):\n",
    "    return fsolve(model, [0.5, 0.1, 0.4], args=(params_primer, params_motif, T, c_DNA_tot, c_primer))\n",
    "\n",
    "T = np.linspace(45, 80, -15-50)\n",
    "c_DNA_tot = 1e-10 # 100 pM\n",
    "c_primer = 10e-6*1/20 # 10 uM * 1 uL / 20 uL\n",
    "\n",
    "res = np.array([solve(t, c_DNA_tot, c_primer) for t in T]).T\n",
    "df = pd.DataFrame({\n",
    "    'T': T,\n",
    "    'Free DNA': res[0],\n",
    "    'Self-annealed DNA': res[1],\n",
    "    'DNA-primer complex': res[2]\n",
    "})\n",
    "df"
   ]
  },
  {
   "cell_type": "code",
   "execution_count": null,
   "metadata": {},
   "outputs": [],
   "source": [
    "plot_df = df.melt(id_vars='T', var_name='species', value_name='ratio')\n",
    "\n",
    "fig = px.line(\n",
    "    plot_df,\n",
    "    x='T', \n",
    "    y='ratio',\n",
    "    color='species',\n",
    "    labels={'ratio': 'Fraction of DNA', 'T': 'Temperature (°C)', 'species': 'Species'},\n",
    ")\n",
    "\n",
    "fig.update_layout(\n",
    "    width=320,\n",
    "    height=200,\n",
    "    margin=dict(l=0, r=10, t=10, b=0),\n",
    "    showlegend=False,\n",
    ")\n",
    "fig.update_yaxes(range=[0, 1.01])\n",
    "\n",
    "fig = plotting.standardize_plot(fig)\n",
    "fig.show()\n",
    "fig.write_image('SI_figure_correlation/distribution.svg')"
   ]
  }
 ],
 "metadata": {
  "kernelspec": {
   "display_name": "standard-3.12",
   "language": "python",
   "name": "python3"
  },
  "language_info": {
   "codemirror_mode": {
    "name": "ipython",
    "version": 3
   },
   "file_extension": ".py",
   "mimetype": "text/x-python",
   "name": "python",
   "nbconvert_exporter": "python",
   "pygments_lexer": "ipython3",
   "version": "3.12.4"
  }
 },
 "nbformat": 4,
 "nbformat_minor": 2
}
