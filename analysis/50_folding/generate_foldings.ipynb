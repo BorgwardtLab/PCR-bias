{
 "cells": [
  {
   "cell_type": "code",
   "execution_count": null,
   "metadata": {},
   "outputs": [],
   "source": [
    "import pandas as pd\n",
    "import numpy as np\n",
    "import plotly.express as px\n",
    "import Bio.Seq\n",
    "\n",
    "import sys\n",
    "sys.path.append('../')\n",
    "import plotting"
   ]
  },
  {
   "cell_type": "code",
   "execution_count": null,
   "metadata": {},
   "outputs": [],
   "source": [
    "adapter_0F = Bio.Seq.Seq(\"ACACGACGCTCTTCCGATCT\")\n",
    "adapter_0R = Bio.Seq.Seq(\"AGATCGGAAGAGCACACGTCT\")\n",
    "\n",
    "motifs = [\n",
    "    \"CGTGT\",\n",
    "    \"GTCGTG\",\n",
    "    \"TCGTGT\",\n",
    "    \"CGTG\",\n",
    "    \"CGTGTG\"\n",
    "]"
   ]
  },
  {
   "cell_type": "markdown",
   "metadata": {},
   "source": [
    "### Generate the subsequences of motifs with the correct orientation of adapters"
   ]
  },
  {
   "cell_type": "code",
   "execution_count": null,
   "metadata": {},
   "outputs": [],
   "source": [
    "combinations = {}\n",
    "\n",
    "# prepare combinations with 0F (-> requires rev-comp orientation for inhibition)\n",
    "for motif in motifs:\n",
    "    combinations[f\"0F_{motif}_end\"] = (adapter_0F + motif.lower()).reverse_complement()\n",
    "    combinations[f\"0F_{motif}_5nt\"] = (adapter_0F + 5*\"N\" +  motif.lower()).reverse_complement()\n",
    "\n",
    "# prepare combinations with 0R (-> requires normal orientation for inhibition)\n",
    "for motif in motifs:\n",
    "    combinations[f\"0R_{motif}_end\"] =  motif.lower() + adapter_0R\n",
    "    combinations[f\"0R_{motif}_5nt\"] =  motif.lower() + 5*\"N\" + adapter_0R\n",
    "\n",
    "for key, value in combinations.items():\n",
    "    combinations[key] = str(value)\n",
    "combinations = pd.DataFrame.from_dict(combinations, orient=\"index\", columns=[\"sequence\"])\n",
    "combinations.reset_index(inplace=True)\n",
    "combinations.rename(columns={\"index\": \"name\"}, inplace=True)\n",
    "combinations"
   ]
  },
  {
   "cell_type": "markdown",
   "metadata": {},
   "source": [
    "### For each subsequence, submit it to http://www.unafold.org/mfold/applications/dna-folding-form.php using default settings with the exception of 54°C, 50 mM Na+, and 300% percent suboptimality (the latter only if correct folding is not in default set)"
   ]
  },
  {
   "cell_type": "code",
   "execution_count": null,
   "metadata": {},
   "outputs": [],
   "source": [
    "mfold_results = {\n",
    "    \"acacgAGATCGGAAGAGCGTCGTGT\": 0.42,\n",
    "    \"acacgNNNNNAGATCGGAAGAGCGTCGTGT\": 1.86,\n",
    "    \"cacgacAGATCGGAAGAGCGTCGTGT\": 0.11,\n",
    "    \"cacgacNNNNNAGATCGGAAGAGCGTCGTGT\": 1.26,\n",
    "    \"acacgaAGATCGGAAGAGCGTCGTGT\": 0.37,\n",
    "    \"acacgaNNNNNAGATCGGAAGAGCGTCGTGT\": 1.19,\n",
    "    \"cacgAGATCGGAAGAGCGTCGTGT\": 1.19,\n",
    "    \"cacgNNNNNAGATCGGAAGAGCGTCGTGT\": 2.63,\n",
    "    \"cacacgAGATCGGAAGAGCGTCGTGT\": 0.12,\n",
    "    \"cacacgNNNNNAGATCGGAAGAGCGTCGTGT\": 1.56,\n",
    "    \"cgtgtAGATCGGAAGAGCACACGTCT\": 1.12,\n",
    "    \"cgtgtNNNNNAGATCGGAAGAGCACACGTCT\": 1.82,\n",
    "    \"gtcgtgAGATCGGAAGAGCACACGTCT\": 1.16,\n",
    "    \"gtcgtgNNNNNAGATCGGAAGAGCACACGTCT\": 2.31,\n",
    "    \"tcgtgtAGATCGGAAGAGCACACGTCT\": 0.91,\n",
    "    \"tcgtgtNNNNNAGATCGGAAGAGCACACGTCT\": 1.61,\n",
    "    \"cgtgAGATCGGAAGAGCACACGTCT\": 1.37,\n",
    "    \"cgtgNNNNNAGATCGGAAGAGCACACGTCT\": 2.52,\n",
    "    \"cgtgtgAGATCGGAAGAGCACACGTCT\": -0.06,\n",
    "    \"cgtgtgNNNNNAGATCGGAAGAGCACACGTCT\": 1.02\n",
    "}\n",
    "\n",
    "mfold_results = pd.DataFrame.from_dict(mfold_results, orient=\"index\", columns=[\"dG\"])\n",
    "mfold_results.reset_index(inplace=True)\n",
    "mfold_results.rename(columns={\"index\": \"sequence\"}, inplace=True)\n",
    "mfold_results"
   ]
  },
  {
   "cell_type": "markdown",
   "metadata": {},
   "source": [
    "# Functions"
   ]
  },
  {
   "cell_type": "code",
   "execution_count": null,
   "metadata": {},
   "outputs": [],
   "source": [
    "def merge_with(combinations, mfold_results, efficiency_data):\n",
    "\n",
    "    # compile efficiency data\n",
    "    efficiency_results = {}\n",
    "    for motif in motifs:\n",
    "        row = efficiency_data.loc[efficiency_data[\"insert_motif\"] == motif]\n",
    "        efficiency_results[f\"0F_{motif}_end\"] = row[\"5' end\"].values[0]\n",
    "        efficiency_results[f\"0F_{motif}_5nt\"] = row[\"5' + 5 nt\"].values[0]\n",
    "        efficiency_results[f\"0R_{motif}_end\"] = row[\"3' end\"].values[0]\n",
    "        efficiency_results[f\"0R_{motif}_5nt\"] = row[\"3' - 5 nt\"].values[0]\n",
    "    efficiency_results = pd.DataFrame.from_dict(efficiency_results, orient=\"index\", columns=[\"Delta_eff\"])\n",
    "    efficiency_results.reset_index(inplace=True)\n",
    "    efficiency_results.rename(columns={\"index\": \"name\"}, inplace=True)\n",
    "\n",
    "    # merge all data\n",
    "    df = pd.merge(combinations, mfold_results, on=\"sequence\")\n",
    "    df = pd.merge(df, efficiency_results, on=\"name\")\n",
    "    df[['adapter', 'motif', 'end']] = df['name'].str.split('_', expand=True)\n",
    "    df['dG_J'] = 4184*df['dG']\n",
    "    df['K'] = np.exp(-df['dG_J']/(8.314*(273.15+54)))\n",
    "    df['alpha'] = 1 - 1/(1+df['K'])\n",
    "    return df\n",
    "\n",
    "\n",
    "def plot(df):\n",
    "    fig = px.scatter(\n",
    "        df,\n",
    "        x=\"alpha\",\n",
    "        y=\"Delta_eff\",\n",
    "        hover_data=[\"adapter\", \"end\", \"motif\"],\n",
    "        trendline=\"ols\",\n",
    "        trendline_options={\"add_constant\": False},\n",
    "        trendline_color_override=\"gray\",\n",
    "    )\n",
    "    fig.update_traces(line_dash=\"dash\")\n",
    "\n",
    "    # add R2\n",
    "    trendline = px.get_trendline_results(fig)\n",
    "    fig.add_annotation(\n",
    "        x=0.85,\n",
    "        y=0.95,\n",
    "        xref=\"paper\",\n",
    "        yref=\"paper\",\n",
    "        text=f\"R² = {trendline.iloc[0]['px_fit_results'].rsquared:.2f}\",\n",
    "        showarrow=False,\n",
    "    )\n",
    "\n",
    "    # add spearman correlation\n",
    "    spearman = df[[\"alpha\", \"Delta_eff\"]].corr(method=\"spearman\").iloc[0, 1]\n",
    "    fig.add_annotation(\n",
    "        x=0.85,\n",
    "        y=0.875,\n",
    "        xref=\"paper\",\n",
    "        yref=\"paper\",\n",
    "        text=f\"ρ = {spearman:.2f}\",\n",
    "        showarrow=False,\n",
    "    )\n",
    "\n",
    "    fig.update_layout(\n",
    "        width=320,\n",
    "        height=200,\n",
    "        margin=dict(l=0, r=10, t=10, b=0),\n",
    "    )\n",
    "    fig.update_xaxes(title_text=\"Degree of association at 54°C (α)\", range=[0, 0.55])\n",
    "    fig.update_yaxes(title_text=\"Change in efficiency (Δϵ in %)\", range=[-5, 0])\n",
    "\n",
    "    fig = plotting.standardize_plot(fig)\n",
    "    fig.show()\n",
    "    return fig"
   ]
  },
  {
   "cell_type": "markdown",
   "metadata": {},
   "source": [
    "# Plot data of GCall/fix"
   ]
  },
  {
   "cell_type": "code",
   "execution_count": null,
   "metadata": {},
   "outputs": [],
   "source": [
    "efficiency_data = pd.read_csv(\"../43_external_validation_motifs/figure_6_motif_effect/heatmap_GCall_fix.csv\")\n",
    "df = merge_with(combinations, mfold_results, efficiency_data)\n",
    "fig = plot(df)\n",
    "fig.write_image(\"./SI_figure_correlation/GCall_data.svg\")"
   ]
  },
  {
   "cell_type": "markdown",
   "metadata": {},
   "source": [
    "# Plot data of Erlich et al."
   ]
  },
  {
   "cell_type": "code",
   "execution_count": null,
   "metadata": {},
   "outputs": [],
   "source": [
    "efficiency_data = pd.read_csv(\"../43_external_validation_motifs/figure_6_motif_effect/heatmap_Erlich_et_al.csv\")\n",
    "df = merge_with(combinations, mfold_results, efficiency_data)\n",
    "fig = plot(df)\n",
    "fig.write_image(\"./SI_figure_correlation/Erlich_data.svg\")"
   ]
  }
 ],
 "metadata": {
  "kernelspec": {
   "display_name": "standard-3.12",
   "language": "python",
   "name": "python3"
  },
  "language_info": {
   "codemirror_mode": {
    "name": "ipython",
    "version": 3
   },
   "file_extension": ".py",
   "mimetype": "text/x-python",
   "name": "python",
   "nbconvert_exporter": "python",
   "pygments_lexer": "ipython3",
   "version": "3.12.4"
  }
 },
 "nbformat": 4,
 "nbformat_minor": 2
}
