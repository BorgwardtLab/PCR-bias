{
 "cells": [
  {
   "cell_type": "code",
   "execution_count": null,
   "metadata": {},
   "outputs": [],
   "source": [
    "import pandas as pd\n",
    "import plotly.express as px\n",
    "import statsmodels.stats.descriptivestats\n",
    "\n",
    "import sys\n",
    "sys.path.append('../')\n",
    "import plotting"
   ]
  },
  {
   "cell_type": "markdown",
   "metadata": {},
   "source": [
    "# Read reference data"
   ]
  },
  {
   "cell_type": "code",
   "execution_count": null,
   "metadata": {},
   "outputs": [],
   "source": [
    "ref_df = pd.read_csv('./sequence_data_anonymized_no_duplicates.csv')\n",
    "ref_df.drop(columns=['seq'], inplace=True)\n",
    "ref_df['insert_motif_position'] = ref_df['insert_motif_position'].map({\n",
    "    \"front\": \"5' end\", \n",
    "    \"5ntfront\": \"5' + 5 nt\", \n",
    "    \"middle\": \"Middle\", \n",
    "    \"5ntback\": \"3' - 5 nt\", \n",
    "    \"back\": \"3' end\"\n",
    "})\n",
    "\n",
    "ref_df"
   ]
  },
  {
   "cell_type": "markdown",
   "metadata": {},
   "source": [
    "# Read model data for experiment"
   ]
  },
  {
   "cell_type": "code",
   "execution_count": null,
   "metadata": {},
   "outputs": [],
   "source": [
    "full_dfs = {}\n",
    "\n",
    "for exp in ['GCall_fix', 'Erlich_et_al', 'Erlich_et_al_internalrepeat']:\n",
    "    param_df = pd.read_csv(f'../data/internal_datasets/validation_{exp}/params.csv')\n",
    "    param_df.rename(columns={'seq_id': 'seq_id_anonymized'}, inplace=True)\n",
    "    mergeddf = pd.merge(ref_df, param_df, on='seq_id_anonymized')\n",
    "    full_dfs[exp] = mergeddf\n",
    "\n",
    "full_dfs[\"GCall_fix\"]"
   ]
  },
  {
   "cell_type": "markdown",
   "metadata": {},
   "source": [
    "# Select inserted sequences and calculate change in efficiency"
   ]
  },
  {
   "cell_type": "code",
   "execution_count": null,
   "metadata": {},
   "outputs": [],
   "source": [
    "motif_dfs = {}\n",
    "\n",
    "for exp in ['GCall_fix', 'Erlich_et_al', 'Erlich_et_al_internalrepeat']:\n",
    "    motif_df = full_dfs[exp].copy()\n",
    "    motif_df = motif_df[motif_df.has_insertedmotif]\n",
    "    motif_df['eff_sourceseq'] = motif_df['source_seqid'].map(full_dfs[exp].set_index('seq_id')['eff'])\n",
    "    motif_df['eff_diff'] = motif_df['eff'] - motif_df['eff_sourceseq']\n",
    "    motif_dfs[exp] = motif_df\n",
    "\n",
    "motif_dfs[\"GCall_fix\"]"
   ]
  },
  {
   "cell_type": "markdown",
   "metadata": {},
   "source": [
    "# Aggregate data by motif and position"
   ]
  },
  {
   "cell_type": "code",
   "execution_count": null,
   "metadata": {},
   "outputs": [],
   "source": [
    "def agg(s):\n",
    "    d = statsmodels.stats.descriptivestats.describe(\n",
    "        s.eff_diff.values, \n",
    "        stats=[\"nobs\", \"mean\", \"median\", \"ci\"], \n",
    "        alpha=0.05/50, \n",
    "        use_t=True\n",
    "    )[0]\n",
    "    d['delta_ci'] = d['upper_ci'] - d['mean']\n",
    "    d['mean%'] = 100*d['mean']\n",
    "    d['median%'] = 100*d['median']\n",
    "    return d\n",
    "\n",
    "plot_dfs = {}\n",
    "\n",
    "for exp in ['GCall_fix', 'Erlich_et_al', 'Erlich_et_al_internalrepeat']:\n",
    "    plot_df = motif_dfs[exp].groupby(['insert_motif', 'insert_motif_position']).apply(agg, include_groups=False)\n",
    "    plot_df.reset_index(inplace=True)\n",
    "    plot_dfs[exp] = plot_df\n",
    "\n",
    "plot_dfs['GCall_fix']"
   ]
  },
  {
   "cell_type": "markdown",
   "metadata": {},
   "source": [
    "# Heatmap"
   ]
  },
  {
   "cell_type": "code",
   "execution_count": null,
   "metadata": {},
   "outputs": [],
   "source": [
    "heatmap_dfs = {}\n",
    "\n",
    "for exp in ['GCall_fix', 'Erlich_et_al', 'Erlich_et_al_internalrepeat']:\n",
    "    heatmap_df = plot_dfs[exp].pivot(index=\"insert_motif\", columns=\"insert_motif_position\", values=\"mean%\")\n",
    "    heatmap_df = heatmap_df[[\"5' end\", \"5' + 5 nt\", \"Middle\", \"3' - 5 nt\", \"3' end\"]].copy()\n",
    "    heatmap_df = heatmap_df.reindex([\"CGTGT\", \"GTCGTG\", \"TCGTGT\", \"CGTG\", \"CGTGTG\", \"TATT\", \"TATA\", \"AACA\", \"TATAT\", \"GCAC\"], axis=0)\n",
    "    heatmap_dfs[exp] = heatmap_df\n",
    "\n",
    "heatmap_dfs['GCall_fix']"
   ]
  },
  {
   "cell_type": "code",
   "execution_count": null,
   "metadata": {},
   "outputs": [],
   "source": [
    "for exp in ['GCall_fix', 'Erlich_et_al', 'Erlich_et_al_internalrepeat']:\n",
    "    heatmap_df = heatmap_dfs[exp]\n",
    "\n",
    "    fig = px.imshow(\n",
    "        heatmap_df,\n",
    "        x=heatmap_df.columns,\n",
    "        y=heatmap_df.index,\n",
    "        text_auto=\".1f\",\n",
    "        color_continuous_scale=[(0, \"#de2d26\"), (0.5, \"white\"), (1, \"#3182bd\")],\n",
    "        color_continuous_midpoint=0,\n",
    "        range_color=[-5, 5],\n",
    "    )\n",
    "    fig.update_layout(\n",
    "        width=300,\n",
    "        height=300,\n",
    "        showlegend=False,\n",
    "        margin=dict(l=0, r=10, b=0, t=10),\n",
    "    )\n",
    "\n",
    "    if exp == \"Taq\":\n",
    "        fig.update_layout(yaxis={'side': 'right'})\n",
    "\n",
    "    fig.update_layout(coloraxis_colorbar=dict(\n",
    "        title=\"Deltae\",\n",
    "        title_font_family=\"Inter\", \n",
    "        title_font_size=28/3, \n",
    "        tickfont_size=28/3,\n",
    "        thicknessmode=\"pixels\", \n",
    "        thickness=10,\n",
    "        lenmode=\"pixels\", \n",
    "        len=150,\n",
    "        dtick=2,\n",
    "        yanchor=\"top\", y=0.8,\n",
    "    ))\n",
    "\n",
    "\n",
    "    fig.update_xaxes(title_text=None, tickangle=45)\n",
    "    fig.update_yaxes(title_text=None)\n",
    "    fig.update(layout_coloraxis_showscale=True)\n",
    "    fig = plotting.standardize_plot(fig)\n",
    "    fig.write_image(f'./figure_6_motif_effect/heatmap_{exp}.svg')\n",
    "    fig.show()\n",
    "\n",
    "    # save data\n",
    "    heatmap_df.to_csv(f'./figure_6_motif_effect/heatmap_{exp}.csv')"
   ]
  },
  {
   "cell_type": "markdown",
   "metadata": {},
   "source": [
    "# Boxplot"
   ]
  },
  {
   "cell_type": "code",
   "execution_count": null,
   "metadata": {},
   "outputs": [],
   "source": [
    "motif_order = [\n",
    "    \"CGTGT\",\n",
    "    \"TATT\",\n",
    "    \"GTCGTG\",\n",
    "    \"TATA\",\n",
    "    \"TCGTGT\",\n",
    "    \"AACA\",\n",
    "    \"CGTG\",\n",
    "    \"TATAT\",\n",
    "    \"CGTGTG\",\n",
    "    \"GCAC\",\n",
    "]\n",
    "position_order = [\n",
    "    \"5' end\",\n",
    "    \"5' + 5 nt\",\n",
    "    \"Middle\",\n",
    "    \"3' - 5 nt\",\n",
    "    \"3' end\",\n",
    "]\n",
    "for exp in ['GCall_fix', 'Erlich_et_al', 'Erlich_et_al_internalrepeat']:\n",
    "    motif_df = motif_dfs[exp].copy()\n",
    "    fig = px.box(\n",
    "        motif_df, \n",
    "        x='insert_motif_position', \n",
    "        y='eff_diff', \n",
    "        facet_col='insert_motif', \n",
    "        facet_col_wrap=2,\n",
    "        facet_row_spacing=0.04,\n",
    "        boxmode='overlay',\n",
    "        points='all',\n",
    "        category_orders={'insert_motif_position': position_order, 'insert_motif': motif_order},\n",
    "        color_discrete_sequence=[\"#3182bd\"],\n",
    "    )\n",
    "    fig.add_hline(y=0, line_dash=\"dot\", line_color=\"black\", line_width=1, opacity=1)\n",
    "    fig.add_hline(y=-0.025, line_color=\"#de2d26\", line_width=1, opacity=1)\n",
    "    fig.update_traces(marker=dict(size=4, opacity=0.5))\n",
    "\n",
    "    fig.update_xaxes(title_text=\"Motif position\", row=1)\n",
    "    fig.update_yaxes(title_text=\"Δε\", col=1)\n",
    "    fig.for_each_annotation(lambda a: a.update(text=a.text.split(\"=\")[1]))\n",
    "\n",
    "    fig.update_yaxes(\n",
    "        range=[min(-0.22, motif_df.eff_diff.min()-0.005), motif_df.eff_diff.max()+0.005],\n",
    "        dtick=0.1,\n",
    "        minor_dtick=0.025,\n",
    "    )\n",
    "\n",
    "    for i, motif in enumerate(motif_order):\n",
    "        row = 5 - i // 2\n",
    "        col = i % 2 + 1\n",
    "        for j, pos in enumerate(position_order):\n",
    "            idf = motif_df[(motif_df.insert_motif == motif) & (motif_df.insert_motif_position == pos)]\n",
    "            d = statsmodels.stats.descriptivestats.describe(idf.eff_diff.values, stats=[\"nobs\", \"mean\", \"ci\"], alpha=0.05/50, use_t=True)[0]\n",
    "            d['delta_ci'] = d['upper_ci'] - d['mean']\n",
    "            fig.add_annotation(\n",
    "                x=pos,\n",
    "                y=-0.17,\n",
    "                text=f\"n={d['nobs']:.0f}<br>{100*d['mean']:.1f}%<br>±{100*d['delta_ci']:.1f}%\",\n",
    "                showarrow=False,\n",
    "                row=row,\n",
    "                col=col,\n",
    "            )\n",
    "\n",
    "    fig.update_layout(\n",
    "        showlegend=False,\n",
    "        margin=dict(l=0, r=10, b=0, t=20),\n",
    "        width=680,\n",
    "        height=800,\n",
    "    )\n",
    "    fig = plotting.standardize_plot(fig)\n",
    "    fig.write_image(f\"./SI_figure_motif_effect/comp_{exp}.svg\")\n",
    "    fig.show()\n",
    "\n",
    "    # save data\n",
    "    motif_df.to_csv(f\"./SI_figure_motif_effect/comp_{exp}.csv\", index=False)"
   ]
  }
 ],
 "metadata": {
  "kernelspec": {
   "display_name": "standard-3.12",
   "language": "python",
   "name": "python3"
  },
  "language_info": {
   "codemirror_mode": {
    "name": "ipython",
    "version": 3
   },
   "file_extension": ".py",
   "mimetype": "text/x-python",
   "name": "python",
   "nbconvert_exporter": "python",
   "pygments_lexer": "ipython3",
   "version": "3.12.3"
  }
 },
 "nbformat": 4,
 "nbformat_minor": 2
}
