{
 "cells": [
  {
   "cell_type": "code",
   "execution_count": null,
   "metadata": {},
   "outputs": [],
   "source": [
    "import numpy as np\n",
    "import pandas as pd"
   ]
  },
  {
   "cell_type": "markdown",
   "metadata": {},
   "source": [
    "## Read the motifs and select the top 5"
   ]
  },
  {
   "cell_type": "code",
   "execution_count": null,
   "metadata": {},
   "outputs": [],
   "source": [
    "motifs = {}\n",
    "\n",
    "for name, file in (('internal', 'internal.csv'), ('dnafountain', 'dnafountain.csv')):\n",
    "    idf = pd.read_csv(file)\n",
    "    idf = idf.groupby('motif').agg({'p_value': np.min})\n",
    "    display(idf.sort_values('p_value').head(5))\n",
    "    motifs[name] = list(idf.sort_values('p_value').head(5).index)\n",
    "\n",
    "motifs"
   ]
  },
  {
   "cell_type": "markdown",
   "metadata": {},
   "source": [
    "## Generate 10000 random sequences of length 108"
   ]
  },
  {
   "cell_type": "code",
   "execution_count": null,
   "metadata": {},
   "outputs": [],
   "source": [
    "seqs = np.random.choice(['A','C','G','T'], size=(10000, 108))\n",
    "seqs = [''.join(s) for s in seqs]\n",
    "assert len(set(seqs)) == 10000 and len(seqs[0]) == 108\n",
    "\n",
    "df = pd.DataFrame({'seq_id': [f\"Seq{str(i).zfill(5)}\" for i in range(len(seqs))], 'seq': seqs})\n",
    "df.head(5)"
   ]
  },
  {
   "cell_type": "markdown",
   "metadata": {},
   "source": [
    "## Check for each sequence if it contains any of the motifs"
   ]
  },
  {
   "cell_type": "code",
   "execution_count": null,
   "metadata": {},
   "outputs": [],
   "source": [
    "def find_motif(seq, motifs):\n",
    "    return any(m in seq for m in motifs)\n",
    "\n",
    "for name, m in motifs.items():\n",
    "    df[f'has_motif_{name}'] = df['seq'].apply(find_motif, args=(m,))\n",
    "df['has_motif'] = np.any(df[[f'has_motif_{name}' for name in motifs]].values, axis=1)\n",
    "print(df['has_motif'].value_counts())\n",
    "df.head(5)"
   ]
  },
  {
   "cell_type": "markdown",
   "metadata": {},
   "source": [
    "## Select 40 sequences without any motif"
   ]
  },
  {
   "cell_type": "code",
   "execution_count": null,
   "metadata": {},
   "outputs": [],
   "source": [
    "df_selection = df[~df['has_motif']].sample(frac=1).head(40)\n",
    "\n",
    "assert len(df_selection) == 40\n",
    "df_selection.head(5)"
   ]
  },
  {
   "cell_type": "markdown",
   "metadata": {},
   "source": [
    "## Add each motif at the front, the end, the middle, and shifted by 5 nt at the front and end"
   ]
  },
  {
   "cell_type": "code",
   "execution_count": null,
   "metadata": {},
   "outputs": [],
   "source": [
    "new_ids = []\n",
    "new_seqs = []\n",
    "\n",
    "# go through each of the selected sequences\n",
    "for row in df_selection.iterrows():\n",
    "    row = row[1]\n",
    "\n",
    "    # go through each of the motif sources\n",
    "    for name, m in motifs.items():\n",
    "        # go through each of the motifs\n",
    "        for motif in m:\n",
    "\n",
    "            # add the motif at the front\n",
    "            new_ids.append(f\"{row['seq_id']}+{name}_{motif}_front\")\n",
    "            new_seqs.append(motif + row['seq'][len(motif):])\n",
    "\n",
    "            # add the motif at the back\n",
    "            new_ids.append(f\"{row['seq_id']}+{name}_{motif}_back\")\n",
    "            new_seqs.append(row['seq'][:-len(motif)] + motif)\n",
    "\n",
    "            # add the motif in the middle\n",
    "            new_ids.append(f\"{row['seq_id']}+{name}_{motif}_middle\")\n",
    "            start_middle = int(len(row['seq']) / 2 - len(motif) / 2)\n",
    "            new_seqs.append(row['seq'][:start_middle] + motif + row['seq'][start_middle+len(motif):])\n",
    "\n",
    "            # add the motif 5 nt before the front\n",
    "            new_ids.append(f\"{row['seq_id']}+{name}_{motif}_5ntfront\")\n",
    "            new_seqs.append(row['seq'][:5] + motif + row['seq'][5+len(motif):])\n",
    "\n",
    "            # add the motif 5 nt before the back\n",
    "            new_ids.append(f\"{row['seq_id']}+{name}_{motif}_5ntback\")\n",
    "            new_seqs.append(row['seq'][:-(5+len(motif))] + motif + row['seq'][-5:])"
   ]
  },
  {
   "cell_type": "code",
   "execution_count": null,
   "metadata": {},
   "outputs": [],
   "source": [
    "# add the new sequences to a dataframe\n",
    "df_selection_motifinsert = pd.DataFrame({'seq_id': new_ids, 'seq': new_seqs})\n",
    "\n",
    "# add metadata\n",
    "df_selection_motifinsert['has_insertedmotif'] = True\n",
    "df_selection_motifinsert[['source_seqid', 'insert_id']] = df_selection_motifinsert['seq_id'].str.split('+', expand=True)\n",
    "df_selection_motifinsert[['insert_motif_source', 'insert_motif', 'insert_motif_position']] = df_selection_motifinsert['insert_id'].str.split('_', expand=True)\n",
    "\n",
    "# add motif information\n",
    "for name, m in motifs.items():\n",
    "    df_selection_motifinsert[f'has_motif_{name}'] = df_selection_motifinsert['seq'].apply(find_motif, args=(m,))\n",
    "df_selection_motifinsert['has_motif'] = np.any(df_selection_motifinsert[[f'has_motif_{name}' for name in motifs]].values, axis=1)\n",
    "\n",
    "# sanity checks\n",
    "assert np.all(df_selection_motifinsert['seq'].apply(len) == 108)\n",
    "assert len(df_selection_motifinsert) == 40*5*2*5\n",
    "assert np.all(df_selection_motifinsert['has_motif'] == True)\n",
    "\n",
    "df_selection_motifinsert.head(5)"
   ]
  },
  {
   "cell_type": "markdown",
   "metadata": {},
   "source": [
    "## Combine the collections of random sequences with those with inserted motifs"
   ]
  },
  {
   "cell_type": "code",
   "execution_count": null,
   "metadata": {},
   "outputs": [],
   "source": [
    "# add some metadata to the random sequences first\n",
    "df['has_insertedmotif'] = False\n",
    "\n",
    "total_df = pd.concat([df, df_selection_motifinsert], ignore_index=True)\n",
    "\n",
    "# sanity checks\n",
    "assert len(total_df) == 12000\n",
    "assert np.all(total_df['seq'].apply(len) == 108)\n",
    "\n",
    "total_df.head(5)"
   ]
  },
  {
   "cell_type": "markdown",
   "metadata": {},
   "source": [
    "# Save everything"
   ]
  },
  {
   "cell_type": "code",
   "execution_count": null,
   "metadata": {},
   "outputs": [],
   "source": [
    "# save dataframe\n",
    "total_df.to_csv('./sequence_data.csv', index=False)\n",
    "\n",
    "# save fasta file\n",
    "with open(\"design_files.fasta\", \"w\") as f:\n",
    "    for row in total_df.iterrows():\n",
    "        row = row[1]\n",
    "        f.write(f\">{row['seq_id']}\\n{row['seq']}\\n\\n\")\n",
    "\n",
    "# shuffle the dataframe to make sure the sequences are not in any order that may affect synthesis\n",
    "total_df_shuffled = total_df.sample(frac=1)\n",
    "\n",
    "# save text file without primers\n",
    "with open(\"design_files.txt\", \"w\") as f:\n",
    "    for row in total_df_shuffled.iterrows():\n",
    "        row = row[1]\n",
    "        f.write(f\"{row['seq']}\\n\")\n",
    "\n",
    "# save text file with primers\n",
    "with open(\"design_files_w_primers.txt\", \"w\") as f:\n",
    "    for row in total_df_shuffled.iterrows():\n",
    "        row = row[1]\n",
    "        f.write(f\"ACACGACGCTCTTCCGATCT{row['seq']}AGATCGGAAGAGCACACGTCT\\n\")"
   ]
  }
 ],
 "metadata": {
  "kernelspec": {
   "display_name": "standard-3.10",
   "language": "python",
   "name": "python3"
  },
  "language_info": {
   "codemirror_mode": {
    "name": "ipython",
    "version": 3
   },
   "file_extension": ".py",
   "mimetype": "text/x-python",
   "name": "python",
   "nbconvert_exporter": "python",
   "pygments_lexer": "ipython3",
   "version": "3.10.11"
  }
 },
 "nbformat": 4,
 "nbformat_minor": 2
}
