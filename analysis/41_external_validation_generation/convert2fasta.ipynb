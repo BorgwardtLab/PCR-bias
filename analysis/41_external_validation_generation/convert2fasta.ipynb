{
 "cells": [
  {
   "cell_type": "code",
   "execution_count": null,
   "metadata": {},
   "outputs": [],
   "source": [
    "import pandas as pd"
   ]
  },
  {
   "cell_type": "code",
   "execution_count": null,
   "metadata": {},
   "outputs": [],
   "source": [
    "df = pd.read_csv('sequence_data_anonymized.csv')\n",
    "df"
   ]
  },
  {
   "cell_type": "markdown",
   "metadata": {},
   "source": [
    "# Select duplicated rows and keep largest motif"
   ]
  },
  {
   "cell_type": "code",
   "execution_count": null,
   "metadata": {},
   "outputs": [],
   "source": [
    "duplicates_df = df[df.duplicated(subset='seq', keep=False)].copy()\n",
    "duplicates_df"
   ]
  },
  {
   "cell_type": "code",
   "execution_count": null,
   "metadata": {},
   "outputs": [],
   "source": [
    "duplicates_df['insert_motif_len'] = duplicates_df['insert_motif'].str.len()\n",
    "grouped = duplicates_df.groupby('seq')\n",
    "mask = grouped['insert_motif_len'].transform(lambda x: x == x.max()).astype(bool)\n",
    "selection_df = duplicates_df.loc[mask].reset_index(drop=True)\n",
    "selection_df.drop(columns='insert_motif_len', inplace=True)\n",
    "selection_df"
   ]
  },
  {
   "cell_type": "markdown",
   "metadata": {},
   "source": [
    "## Ensure no more duplicates"
   ]
  },
  {
   "cell_type": "code",
   "execution_count": null,
   "metadata": {},
   "outputs": [],
   "source": [
    "len(selection_df) == len(selection_df['seq'].unique())"
   ]
  },
  {
   "cell_type": "markdown",
   "metadata": {},
   "source": [
    "# Select non-duplicated entries"
   ]
  },
  {
   "cell_type": "code",
   "execution_count": null,
   "metadata": {},
   "outputs": [],
   "source": [
    "df_unique = df.iloc[~df.index.isin(duplicates_df.index)].copy()\n",
    "df_unique"
   ]
  },
  {
   "cell_type": "markdown",
   "metadata": {},
   "source": [
    "# Combine unique sequences with selection from duplicates"
   ]
  },
  {
   "cell_type": "code",
   "execution_count": null,
   "metadata": {},
   "outputs": [],
   "source": [
    "fulldf = pd.concat([df_unique, selection_df], ignore_index=True).reset_index(drop=True)\n",
    "fulldf = fulldf.sort_values(by='seq_id_anonymized').reset_index(drop=True)\n",
    "fulldf"
   ]
  },
  {
   "cell_type": "markdown",
   "metadata": {},
   "source": [
    "## Export"
   ]
  },
  {
   "cell_type": "code",
   "execution_count": null,
   "metadata": {},
   "outputs": [],
   "source": [
    "fulldf.to_csv('sequence_data_anonymized_no_duplicates.csv', index=False)\n",
    "\n",
    "with open(\"design_files_noduplicates.fasta\", \"w\") as f:\n",
    "    for row in fulldf.iterrows():\n",
    "        f.write(\">\" + row[1]['seq_id_anonymized'] + \"\\n\" + row[1]['seq'] + \"\\n\")"
   ]
  }
 ],
 "metadata": {
  "kernelspec": {
   "display_name": "dt4dds",
   "language": "python",
   "name": "python3"
  },
  "language_info": {
   "codemirror_mode": {
    "name": "ipython",
    "version": 3
   },
   "file_extension": ".py",
   "mimetype": "text/x-python",
   "name": "python",
   "nbconvert_exporter": "python",
   "pygments_lexer": "ipython3",
   "version": "3.12.0"
  }
 },
 "nbformat": 4,
 "nbformat_minor": 2
}
