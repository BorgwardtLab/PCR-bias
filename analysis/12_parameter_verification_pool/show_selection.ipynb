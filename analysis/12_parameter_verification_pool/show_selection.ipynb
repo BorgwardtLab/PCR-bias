{
 "cells": [
  {
   "cell_type": "code",
   "execution_count": null,
   "metadata": {},
   "outputs": [],
   "source": [
    "import pandas as pd\n",
    "import plotly.express as px\n",
    "\n",
    "import sys\n",
    "sys.path.append('../')\n",
    "import plotting"
   ]
  },
  {
   "cell_type": "markdown",
   "metadata": {},
   "source": [
    "# Read parameter data from GCall and GCfix"
   ]
  },
  {
   "cell_type": "code",
   "execution_count": null,
   "metadata": {},
   "outputs": [],
   "source": [
    "params_df = pd.read_csv(\"../data/internal_datasets/GCall/params.csv\", dtype={'seq_id': str})\n",
    "params_df['seq_id'] = \"GCall_\" + params_df['seq_id']\n",
    "params_df_fix = pd.read_csv(\"../data/internal_datasets/GCfix/params.csv\", dtype={'seq_id': str})\n",
    "params_df_fix['seq_id'] = \"GCfix_\" + params_df_fix['seq_id']\n",
    "params_df = pd.concat([params_df, params_df_fix])\n",
    "\n",
    "params_df"
   ]
  },
  {
   "cell_type": "markdown",
   "metadata": {},
   "source": [
    "# Read sequences selected for the verification pool"
   ]
  },
  {
   "cell_type": "code",
   "execution_count": null,
   "metadata": {},
   "outputs": [],
   "source": [
    "annotation_df = pd.read_csv(\"./pool_composition.csv\", dtype={'seq_id': str})\n",
    "annotation_df['seq_id'] = annotation_df['GC'] + \"_\" + annotation_df['seq_id']\n",
    "annotation_df.drop(columns=['GC'], inplace=True)\n",
    "annotation_df['selected'] = True\n",
    "\n",
    "annotation_df"
   ]
  },
  {
   "cell_type": "markdown",
   "metadata": {},
   "source": [
    "# Merge parameters and selected sequences"
   ]
  },
  {
   "cell_type": "code",
   "execution_count": null,
   "metadata": {},
   "outputs": [],
   "source": [
    "data = pd.merge(params_df, annotation_df, left_on='seq_id', right_on=\"seq_id\", how=\"outer\")\n",
    "data['selected'] = data['selected'].fillna(False)\n",
    "\n",
    "data['group_type'] = data['group'] + data['type']\n",
    "data['group_type'] = data['group_type'].fillna(\"not selected\")\n",
    "data['group_type'] = pd.Categorical(data['group_type'], [\"normalnormal\", \"Model1top\", \"Model1bottom\", \"Model2top\", \"Model2bottom\", \"not selected\"])\n",
    "data.sort_values(by='group_type', inplace=True)\n",
    "\n",
    "display(data)\n",
    "data.group_type.value_counts()"
   ]
  },
  {
   "cell_type": "code",
   "execution_count": null,
   "metadata": {},
   "outputs": [],
   "source": [
    "fig = px.histogram(\n",
    "    data,\n",
    "    x=\"eff\",\n",
    "    color=\"group_type\",\n",
    "    color_discrete_map={\n",
    "        'Model1top': '#3182bd',  \n",
    "        'Model1bottom': '#de2d26', \n",
    "        'Model2top': '#bdd7e7',  \n",
    "        'Model2bottom': '#fcae91', \n",
    "        'normalnormal': '#969696', \n",
    "        'not selected': '#dddddd',\n",
    "    },\n",
    ")\n",
    "fig.update_traces(marker_line_width=0, marker_line_color=\"white\", xbins=dict(size=0.0015))\n",
    "fig.update_yaxes(range=[0, 100])\n",
    "fig.update_xaxes(range=[0.775, 1.025])\n",
    "fig.update_layout(\n",
    "    xaxis_title=\"Amplification efficiency estimated by the model\",\n",
    "    yaxis_title=\"Number of sequences\",\n",
    "    legend_title=\"Category\",\n",
    "    showlegend=True,\n",
    "    width=680,\n",
    "    height=200,\n",
    "    margin=dict(l=0, r=150, t=10, b=0),\n",
    ")\n",
    "\n",
    "fig = plotting.standardize_plot(fig)\n",
    "fig.show()\n",
    "fig.write_image(\"./SI_figure_pool_results_allcycles/efficiency_histogram.svg\")"
   ]
  }
 ],
 "metadata": {
  "kernelspec": {
   "display_name": "standard-3.12",
   "language": "python",
   "name": "python3"
  },
  "language_info": {
   "codemirror_mode": {
    "name": "ipython",
    "version": 3
   },
   "file_extension": ".py",
   "mimetype": "text/x-python",
   "name": "python",
   "nbconvert_exporter": "python",
   "pygments_lexer": "ipython3",
   "version": "3.12.3"
  }
 },
 "nbformat": 4,
 "nbformat_minor": 2
}
