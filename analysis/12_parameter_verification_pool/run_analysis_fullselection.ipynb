{
 "cells": [
  {
   "cell_type": "code",
   "execution_count": null,
   "metadata": {},
   "outputs": [],
   "source": [
    "import pandas as pd\n",
    "import plotly.express as px\n",
    "\n",
    "import sys\n",
    "sys.path.append('../')\n",
    "import plotting"
   ]
  },
  {
   "cell_type": "markdown",
   "metadata": {},
   "source": [
    "## Read in abundance data for verification pool"
   ]
  },
  {
   "cell_type": "code",
   "execution_count": null,
   "metadata": {},
   "outputs": [],
   "source": [
    "abundance_df = pd.read_csv(\"../data/internal_datasets/verification_parameter_estimates/abundance_by_experiment.csv\", dtype={'seq_id': str}).set_index(\"seq_id\")\n",
    "abundance_df.index.name = None\n",
    "abundance_df = abundance_df.div(abundance_df.mean(axis=0), axis=1)\n",
    "\n",
    "abundance_df"
   ]
  },
  {
   "cell_type": "markdown",
   "metadata": {},
   "source": [
    "## Read in annotation for selected sequences"
   ]
  },
  {
   "cell_type": "code",
   "execution_count": null,
   "metadata": {},
   "outputs": [],
   "source": [
    "annotation_df = pd.read_csv(\"./pool_composition.csv\", dtype={'seq_id': str})\n",
    "annotation_df['seq_id'] = annotation_df['GC'] + \"_\" + annotation_df['seq_id']\n",
    "annotation_df.drop(columns=['GC'], inplace=True)\n",
    "annotation_df.set_index(\"seq_id\", inplace=True)\n",
    "annotation_df.index.name = None\n",
    "\n",
    "annotation_df"
   ]
  },
  {
   "cell_type": "markdown",
   "metadata": {},
   "source": [
    "## Join annotation and abundance data"
   ]
  },
  {
   "cell_type": "code",
   "execution_count": null,
   "metadata": {},
   "outputs": [],
   "source": [
    "df = abundance_df.merge(annotation_df, how=\"inner\", left_index=True, right_index=True)\n",
    "df"
   ]
  },
  {
   "cell_type": "markdown",
   "metadata": {},
   "source": [
    "# Combine group and type annotation"
   ]
  },
  {
   "cell_type": "code",
   "execution_count": null,
   "metadata": {},
   "outputs": [],
   "source": [
    "df['group_type'] = df['group'] + df['type']\n",
    "df"
   ]
  },
  {
   "cell_type": "markdown",
   "metadata": {},
   "source": [
    "## Plot distributions"
   ]
  },
  {
   "cell_type": "code",
   "execution_count": null,
   "metadata": {},
   "outputs": [],
   "source": [
    "plot_df = pd.melt(\n",
    "    df.reset_index(), \n",
    "    id_vars=['index', \"group\", \"type\", \"group_type\"],\n",
    "    value_vars=[f'PCR{str(i).zfill(2)}' for i in range(1, 10+1)],\n",
    "    var_name='PCR',\n",
    "    value_name='x',\n",
    ")\n",
    "plot_df['n_cycles'] = plot_df['PCR'].str.extract(r'(\\d+)').astype(int)*15\n",
    "plot_df.loc[plot_df['x'].isna(), 'x'] = 0"
   ]
  },
  {
   "cell_type": "code",
   "execution_count": null,
   "metadata": {},
   "outputs": [],
   "source": [
    "fig = px.histogram(\n",
    "    plot_df, \n",
    "    x='x', \n",
    "    color=\"group_type\", \n",
    "    barmode=\"stack\",\n",
    "    facet_col=\"n_cycles\",\n",
    "    facet_col_spacing=0.03,\n",
    "    facet_col_wrap=5,\n",
    "    facet_row_spacing=0.05,\n",
    "    color_discrete_map={\n",
    "        'Model1top': '#3182bd',  \n",
    "        'Model1bottom': '#de2d26', \n",
    "        'Model2top': '#bdd7e7',  \n",
    "        'Model2bottom': '#fcae91', \n",
    "        'normalnormal': '#969696', \n",
    "    },\n",
    "    range_x=[0, 3], \n",
    "    range_y=[0, 250], \n",
    ")\n",
    "fig.for_each_annotation(lambda a: a.update(text=\"\"))\n",
    "fig.update_traces(xbins=dict(start=0.0, end=3.0, size=0.05), selector=dict(type='histogram'))\n",
    "fig.update_layout(\n",
    "    height=400, \n",
    "    width=680, \n",
    "    margin=dict(l=0, r=10, t=5, b=0),\n",
    "    showlegend=False,\n",
    ")\n",
    "fig.update_xaxes(\n",
    "    title_text='', \n",
    "    dtick=1,\n",
    "    minor_dtick=0.5\n",
    ")\n",
    "fig.update_yaxes(\n",
    "    title_text='', \n",
    "    dtick=100,\n",
    "    minor_dtick=25\n",
    ")\n",
    "fig.update_xaxes(\n",
    "    title_text='Relative coverage',\n",
    "    row=1,\n",
    ")\n",
    "fig.update_yaxes(\n",
    "    title_text='Sequences',\n",
    "    row=1,\n",
    "    col=1,\n",
    ")\n",
    "fig.update_yaxes(\n",
    "    title_text='Sequences',\n",
    "    row=2,\n",
    "    col=1,\n",
    ")\n",
    "fig.update_traces(marker=dict(line_width=0), selector=dict(type='histogram')) \n",
    "\n",
    "for i, n_cycles in enumerate(sorted(plot_df.n_cycles.unique())):\n",
    "    idf = plot_df[plot_df['n_cycles'] == n_cycles]\n",
    "    mean_top1 = idf.loc[idf['group_type'] == 'Model1top', 'x'].mean()\n",
    "    mean_bottom1 = idf.loc[idf['group_type'] == 'Model1bottom', 'x'].mean()\n",
    "    mean_top2 = idf.loc[idf['group_type'] == 'Model2top', 'x'].mean()\n",
    "    mean_bottom2 = idf.loc[idf['group_type'] == 'Model2bottom', 'x'].mean()\n",
    "    mean_other = idf.loc[idf['group_type'] == 'normalnormal', 'x'].mean()\n",
    "    fig.add_annotation(\n",
    "        x=2.0,\n",
    "        y=160,\n",
    "        text=f\"<b>{n_cycles} cycles</b><br>x̄ = {mean_top1:0.2f}<br>x̄ = {mean_bottom1:0.2f}<br>x̄ = {mean_top2:0.2f}<br>x̄ = {mean_bottom2:0.2f}<br>x̄ = {mean_other:0.2f}\",\n",
    "        font_color=\"black\",\n",
    "        align='center',\n",
    "        showarrow=False,\n",
    "        col=(i%5)+1,\n",
    "        row=2-(i//5),\n",
    "    )\n",
    "\n",
    "fig = plotting.standardize_plot(fig)\n",
    "fig.show()\n",
    "fig.write_image(\"./SI_figure_pool_results_allcycles/pool_evolution_full.svg\")\n",
    "\n",
    "# also export data\n",
    "plot_df.to_csv(\"./SI_figure_pool_results_allcycles/pool_evolution_full.csv\", index=False)"
   ]
  }
 ],
 "metadata": {
  "kernelspec": {
   "display_name": "np_pd_sp",
   "language": "python",
   "name": "python3"
  },
  "language_info": {
   "codemirror_mode": {
    "name": "ipython",
    "version": 3
   },
   "file_extension": ".py",
   "mimetype": "text/x-python",
   "name": "python",
   "nbconvert_exporter": "python",
   "pygments_lexer": "ipython3",
   "version": "3.12.3"
  }
 },
 "nbformat": 4,
 "nbformat_minor": 2
}
